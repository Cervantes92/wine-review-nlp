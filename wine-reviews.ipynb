{
 "cells": [
  {
   "cell_type": "code",
   "execution_count": 1,
   "metadata": {},
   "outputs": [],
   "source": [
    "import numpy as np\n",
    "import pandas as pd\n",
    "import spacy\n",
    "import re\n",
    "import matplotlib.pyplot as plt\n",
    "import seaborn as sns\n",
    "import nltk\n",
    "import gensim\n",
    "import string\n",
    "\n",
    "from collections import Counter\n",
    "from IPython.display import display as dsp\n",
    "#from nltk.corpus import stopwords\n",
    "\n",
    "from sklearn.feature_extraction.text import TfidfVectorizer\n",
    "from sklearn.cluster import KMeans\n",
    "from sklearn.decomposition import TruncatedSVD, LatentDirichletAllocation\n",
    "from sklearn.pipeline import make_pipeline\n",
    "from sklearn.preprocessing import Normalizer\n",
    "from sklearn import linear_model\n",
    "\n",
    "from nltk.tokenize import RegexpTokenizer\n",
    "from nltk.stem import WordNetLemmatizer\n",
    "\n",
    "from gensim import corpora, models\n",
    "\n",
    "from scipy import stats\n",
    "\n",
    "#Stopwords dictionary\n",
    "stop = nltk.corpus.stopwords.words('english')"
   ]
  },
  {
   "cell_type": "code",
   "execution_count": 2,
   "metadata": {},
   "outputs": [],
   "source": [
    "#Instantiate truncated SVD for dimensionality reduction and create normalized pipeline\n",
    "svd = TruncatedSVD(400)\n",
    "lsa = make_pipeline(svd, Normalizer(copy = False))\n",
    "\n",
    "#Instantiate stemmer, lemmatizer, and tokenizer\n",
    "w_tokenizer = nltk.tokenize.WhitespaceTokenizer()\n",
    "lemmatizer = nltk.stem.WordNetLemmatizer()\n",
    "\n",
    "#Instantiate linear model\n",
    "lasso = linear_model.Lasso(alpha=.35)"
   ]
  },
  {
   "cell_type": "code",
   "execution_count": 3,
   "metadata": {},
   "outputs": [],
   "source": [
    "# Utility function change entries in dataframe into collection of stemmed terms\n",
    "def word_parser(series):\n",
    "    texts = []\n",
    "    \n",
    "    for entry in series:\n",
    "        \n",
    "        #Lowercase\n",
    "        raw = entry.lower()\n",
    "        \n",
    "        #tokenize\n",
    "        tokens = w_tokenizer.tokenize(raw)\n",
    "        \n",
    "        #Removing stopwords and lemmatization\n",
    "        \n",
    "        stemmed_tokens = []\n",
    "        for i in tokens:\n",
    "            if i not in stop:\n",
    "                stemmed_tokens.append(lemmatizer.lemmatize(i))\n",
    "        \n",
    "        #Add to list\n",
    "        texts.append(stemmed_tokens)\n",
    "        \n",
    "    return texts\n",
    "        \n",
    "\n",
    "#Clean Text\n",
    "def text_cleaner(text):\n",
    "    \n",
    "    #Ensure all excess whitespace is removed, lowercase\n",
    "    text = ' '.join(text.split())\n",
    "    \n",
    "    #Remove non-alphabetical characters(and not spaces)\n",
    "    text = ''.join(c for c in text if c.isalpha() or c == ' ')\n",
    "    \n",
    "    #Lemmatize\n",
    "    #text_array = w_tokenizer.tokenize(text)\n",
    "    #for word in text_array:\n",
    "        #text.join(lemmatizer.lemmatize(word))\n",
    "    #text = ' '.join(lemmatizer.lemmatize(w) for w in w_tokenizer.tokenize(text))\n",
    "    \n",
    "    return text\n",
    "\n",
    "#String all parts of an array into one long string\n",
    "def stringer(series):\n",
    "    results = ''\n",
    "    for entry in series:\n",
    "        results += str(entry)\n",
    "        \n",
    "    return results\n",
    "\n",
    "#Function to perform tfidf on a series of document and return a dataframe of terms and their score.\n",
    "def tfidf_this(series, tfidf):\n",
    "    #Fit model\n",
    "    x = tfidf.fit_transform(series)\n",
    "\n",
    "    #Map results to same dataframe\n",
    "    tfidf_results = pd.DataFrame(index = tfidf.vocabulary_)\n",
    "    #tfidf_results['term'] = tfidf.vocabulary_\n",
    "    tfidf_results['score'] = tfidf.idf_\n",
    "    \n",
    "    #Return results\n",
    "    return tfidf_results"
   ]
  },
  {
   "cell_type": "code",
   "execution_count": 4,
   "metadata": {},
   "outputs": [],
   "source": [
    "#Instantiate our tf-idf model\n",
    "tfidf = TfidfVectorizer(max_df=0.5, # drop words that occur in more than half the paragraphs\n",
    "                             min_df=2, # only use words that appear at least twice\n",
    "                             stop_words='english',\n",
    "                             lowercase=True, #convert everything to lower case\n",
    "                             use_idf=True,#we definitely want to use inverse document frequencies in our weighting\n",
    "                             norm=u'l2', #Applies a correction factor so that longer paragraphs and shorter paragraphs get treated equally\n",
    "                             smooth_idf=True #Adds 1 to all document frequencies, as if an extra document existed that used every word once.  Prevents divide-by-zero errors\n",
    "                            )"
   ]
  },
  {
   "cell_type": "markdown",
   "metadata": {},
   "source": [
    "Data taken from kaggle\n",
    "https://www.kaggle.com/zynicide/wine-reviews\n",
    "\n",
    "# The Wine Review List\n",
    "\n",
    "What we have here is a dataset of wine reviews from the Wine Enthusiast magazine (https://www.winemag.com/?s=&drink_type=wine). This dataset has gained popularity as a training set to measure the capabilities of various classifiers, clustering algorithms and natural language processing models.\n",
    "\n",
    "There are several reasons why this dataset is so good for testing machine learning processes. First, the immense size of the dataset (at over 100'000 entries, each with a paragraph of text written by dozens of unique authors, with several other unique attributes such as title of the wine, type of wine, country of origin et al.\n",
    "\n",
    "There are dozens of potential projects, such as supervised learning techniques involving predicting the authorship of the wine review based on the metrics of the review itself, or unsupervised techniques such as clustering reviews and wine types."
   ]
  },
  {
   "cell_type": "markdown",
   "metadata": {},
   "source": [
    "## The Data\n",
    "\n",
    "We will first explore the form our data takes. We import the data as a pandas dataframe from a CSV file. There are several potential projects we could do using only a handful of columns from the original dataset, and thankfully, not very many entries countained null values we had to get rid of.\n",
    "\n",
    "We will start by exploring a subset of the columns available from the raw dataset, being: 'description', 'title', 'country', 'taster_name', and 'variety'."
   ]
  },
  {
   "cell_type": "code",
   "execution_count": 5,
   "metadata": {},
   "outputs": [
    {
     "name": "stdout",
     "output_type": "stream",
     "text": [
      "The raw dataset has 14 columns.\n",
      "Index(['Unnamed: 0', 'country', 'description', 'designation', 'points',\n",
      "       'price', 'province', 'region_1', 'region_2', 'taster_name',\n",
      "       'taster_twitter_handle', 'title', 'variety', 'winery'],\n",
      "      dtype='object')\n",
      "Original raw data shape:(129971, 14)\n",
      "Dataframe shape:(96420, 7)\n"
     ]
    },
    {
     "name": "stderr",
     "output_type": "stream",
     "text": [
      "/usr/local/lib/python3.6/dist-packages/ipykernel_launcher.py:8: SettingWithCopyWarning: \n",
      "A value is trying to be set on a copy of a slice from a DataFrame\n",
      "\n",
      "See the caveats in the documentation: http://pandas.pydata.org/pandas-docs/stable/indexing.html#indexing-view-versus-copy\n",
      "  \n"
     ]
    },
    {
     "name": "stdout",
     "output_type": "stream",
     "text": [
      "This is ripe and fruity a wine that is smooth while still structured Firm tannins are filled out with juicy red berry fruits and freshened with acidity Its already drinkable although it will certainly be better from \n"
     ]
    },
    {
     "name": "stderr",
     "output_type": "stream",
     "text": [
      "/usr/local/lib/python3.6/dist-packages/ipykernel_launcher.py:20: SettingWithCopyWarning: \n",
      "A value is trying to be set on a copy of a slice from a DataFrame.\n",
      "Try using .loc[row_indexer,col_indexer] = value instead\n",
      "\n",
      "See the caveats in the documentation: http://pandas.pydata.org/pandas-docs/stable/indexing.html#indexing-view-versus-copy\n"
     ]
    }
   ],
   "source": [
    "#Import raw data\n",
    "raw = pd.read_csv('wine-reviews/winemag-data-130k-v2.csv')\n",
    "print('The raw dataset has {} columns.'.format(len(raw.columns)))\n",
    "print(raw.columns)\n",
    "\n",
    "#Pull out columns of interest\n",
    "data = raw[['description', 'points', 'price', 'title', 'country', 'taster_name', 'variety']]\n",
    "data.dropna(inplace = True)\n",
    "\n",
    "#Chech final dataframe dimensions\n",
    "print(\"Original raw data shape:{}\".format(raw.shape))\n",
    "print(\"Dataframe shape:{}\".format(data.shape))\n",
    "\n",
    "#Check data formatting\n",
    "#dsp(data.head())\n",
    "#print(len(data.variety.unique()))\n",
    "\n",
    "\n",
    "#Clean text\n",
    "data['description'] = data['description'].apply(lambda x: text_cleaner(x))\n",
    "\n",
    "print(data['description'][1])"
   ]
  },
  {
   "cell_type": "markdown",
   "metadata": {},
   "source": [
    "## Our Business Goal\n",
    "\n",
    "Suppose we were a winery looking to perfect our formula with the goal of being a hit with the critics and either maximizing or minimizing the price point. Our approach to this problem would be to use natural language processing to find what concepts (flavors, scents et al) most strongly correlate to our business goals.\n",
    "\n",
    "For our purposes, we will assume that the price of the wine perfectly correlates with the manufacturing cost, and an optimal solution would be to maximize the quality to price ratio. We will first formulate an outcome variable and measure its intrisic properties."
   ]
  },
  {
   "cell_type": "code",
   "execution_count": 6,
   "metadata": {},
   "outputs": [
    {
     "name": "stdout",
     "output_type": "stream",
     "text": [
      "There are a total of 381 unique prices over 96420 reviews.\n",
      "There are a total of 21 unique ratings over 96420 reviews.\n"
     ]
    },
    {
     "name": "stderr",
     "output_type": "stream",
     "text": [
      "/usr/local/lib/python3.6/dist-packages/ipykernel_launcher.py:8: SettingWithCopyWarning: \n",
      "A value is trying to be set on a copy of a slice from a DataFrame.\n",
      "Try using .loc[row_indexer,col_indexer] = value instead\n",
      "\n",
      "See the caveats in the documentation: http://pandas.pydata.org/pandas-docs/stable/indexing.html#indexing-view-versus-copy\n",
      "  \n"
     ]
    },
    {
     "data": {
      "text/plain": [
       "Text(0, 0.5, 'Number of Observations')"
      ]
     },
     "execution_count": 6,
     "metadata": {},
     "output_type": "execute_result"
    },
    {
     "data": {
      "image/png": "[encoded data removed]",
      "text/plain": [
       "<Figure size 432x288 with 1 Axes>"
      ]
     },
     "metadata": {
      "needs_background": "light"
     },
     "output_type": "display_data"
    }
   ],
   "source": [
    "print('There are a total of {} unique prices over {} reviews.'\n",
    "      .format(len(data['price'].unique()), data.shape[0]))\n",
    "\n",
    "print('There are a total of {} unique ratings over {} reviews.'\n",
    "      .format(len(data['points'].unique()), data.shape[0]))\n",
    "\n",
    "#Create outcome variable\n",
    "data['points-to-price'] = data['points'] / data['price']\n",
    "\n",
    "#Plot histogram of outcome\n",
    "plt.title('Distribution of Points-to-Price Ratios')\n",
    "data['points-to-price'].hist()\n",
    "\n",
    "####Labels####\n",
    "plt.xlabel('Pts-to-Price Ratio')\n",
    "plt.ylabel('Number of Observations')"
   ]
  },
  {
   "cell_type": "markdown",
   "metadata": {},
   "source": [
    "## Straight Points-to-Price Model\n",
    "\n",
    "__The Good News__\n",
    "\n",
    "There is nothing too odd going on in the distribution of the results. We have one peak in the \n",
    "\n",
    "__The Bad News__\n",
    "\n",
    "Our business outcome is right skewed. This will have to be adjusted."
   ]
  },
  {
   "cell_type": "code",
   "execution_count": 7,
   "metadata": {},
   "outputs": [
    {
     "data": {
      "text/html": [
       "<div>\n",
       "<style scoped>\n",
       "    .dataframe tbody tr th:only-of-type {\n",
       "        vertical-align: middle;\n",
       "    }\n",
       "\n",
       "    .dataframe tbody tr th {\n",
       "        vertical-align: top;\n",
       "    }\n",
       "\n",
       "    .dataframe thead th {\n",
       "        text-align: right;\n",
       "    }\n",
       "</style>\n",
       "<table border=\"1\" class=\"dataframe\">\n",
       "  <thead>\n",
       "    <tr style=\"text-align: right;\">\n",
       "      <th></th>\n",
       "      <th>description</th>\n",
       "      <th>points-to-price</th>\n",
       "    </tr>\n",
       "  </thead>\n",
       "  <tbody>\n",
       "    <tr>\n",
       "      <th>1</th>\n",
       "      <td>This is ripe and fruity a wine that is smooth ...</td>\n",
       "      <td>5.800000</td>\n",
       "    </tr>\n",
       "    <tr>\n",
       "      <th>2</th>\n",
       "      <td>Tart and snappy the flavors of lime flesh and ...</td>\n",
       "      <td>6.214286</td>\n",
       "    </tr>\n",
       "    <tr>\n",
       "      <th>3</th>\n",
       "      <td>Pineapple rind lemon pith and orange blossom s...</td>\n",
       "      <td>6.692308</td>\n",
       "    </tr>\n",
       "    <tr>\n",
       "      <th>4</th>\n",
       "      <td>Much like the regular bottling from  this come...</td>\n",
       "      <td>1.338462</td>\n",
       "    </tr>\n",
       "    <tr>\n",
       "      <th>5</th>\n",
       "      <td>Blackberry and raspberry aromas show a typical...</td>\n",
       "      <td>5.800000</td>\n",
       "    </tr>\n",
       "  </tbody>\n",
       "</table>\n",
       "</div>"
      ],
      "text/plain": [
       "                                         description  points-to-price\n",
       "1  This is ripe and fruity a wine that is smooth ...         5.800000\n",
       "2  Tart and snappy the flavors of lime flesh and ...         6.214286\n",
       "3  Pineapple rind lemon pith and orange blossom s...         6.692308\n",
       "4  Much like the regular bottling from  this come...         1.338462\n",
       "5  Blackberry and raspberry aromas show a typical...         5.800000"
      ]
     },
     "metadata": {},
     "output_type": "display_data"
    },
    {
     "data": {
      "image/png": "[encoded data removed]",
      "text/plain": [
       "<Figure size 432x288 with 1 Axes>"
      ]
     },
     "metadata": {
      "needs_background": "light"
     },
     "output_type": "display_data"
    }
   ],
   "source": [
    "#Fix right skew\n",
    "#data['points-to-price']\n",
    "\n",
    "#Plot histogram of outcome\n",
    "plt.title('Distribution of Points-to-Price Ratios')\n",
    "data['points-to-price'].hist()\n",
    "\n",
    "####Labels####\n",
    "plt.xlabel('Pts-to-Price Ratio')\n",
    "plt.ylabel('Number of Observations')\n",
    "\n",
    "#Show description|pts-to-price table\n",
    "dsp(data[['description', 'points-to-price']].head())"
   ]
  },
  {
   "cell_type": "markdown",
   "metadata": {},
   "source": [
    "## Grouping\n",
    "\n",
    "The first thing we want to work with is grouping reviews by type. Since reviews tend to mention properties of wine associated with its variety, we should be able to predict the variety of wine based on its review.\n",
    "\n",
    "To accomplish this, we will be looking at the top 10 most reviewed varieties of wine. We will sample 40 reviews from each of these varieties to ensure that we avoid class imbalance, as well as drastically reduce the computational cost of processing our 'proof of concept' stage before we roll the model out to the entire dataset. Afterwords, we will string these reviews together to form 'books' associated with each variety.\n",
    "\n",
    "Looking at the list of top 20 most reviewed wines, we can see a few 'such and such' style red blend. We are not yet interested in treating different subvarients of wines as separate varieties, so we will be particularly selective with what varieties of wine we include."
   ]
  },
  {
   "cell_type": "code",
   "execution_count": 8,
   "metadata": {},
   "outputs": [
    {
     "name": "stdout",
     "output_type": "stream",
     "text": [
      "Original dataframe shape:  (96420, 8)\n",
      "Balanced dataframe shape:  (400, 8)\n"
     ]
    }
   ],
   "source": [
    "#20 most reviewed varieties\n",
    "#print('20 Most Reviewed Wine Varieties:\\n',\n",
    "#      data['variety'].value_counts()[0:20])\n",
    "\n",
    "#Top main variety list\n",
    "wine_types = ['Pinot Noir', 'Chardonnay', 'Red Blend', 'Cabernet Sauvignon', 'Riesling', 'Sauvignon Blanc', 'Syrah',\n",
    "       'Rosé', 'Malbec', 'Merlot']\n",
    "\n",
    "#We will be using this dataset as a condensed representation of\n",
    "#our full dataset, this allows us to use more intensive NLP methods\n",
    "data_cond = pd.DataFrame(columns = data.columns)\n",
    "\n",
    "for variety in wine_types:\n",
    "    data_cond = pd.concat([data_cond, \n",
    "               data[data['variety'] == variety].sample(n = 40, random_state = 101)])\n",
    "\n",
    "print('Original dataframe shape: ', data.shape)\n",
    "print('Balanced dataframe shape: ', data_cond.shape)"
   ]
  },
  {
   "cell_type": "code",
   "execution_count": 9,
   "metadata": {},
   "outputs": [
    {
     "name": "stdout",
     "output_type": "stream",
     "text": [
      "Our condensed data contains 16 unique authors\n"
     ]
    },
    {
     "data": {
      "image/png": "[encoded data removed]",
      "text/plain": [
       "<Figure size 432x288 with 1 Axes>"
      ]
     },
     "metadata": {
      "needs_background": "light"
     },
     "output_type": "display_data"
    },
    {
     "name": "stdout",
     "output_type": "stream",
     "text": [
      "\n",
      "List of authors:\n",
      "\n",
      "Michael Schachner     73\n",
      "Roger Voss            66\n",
      "Virginie Boone        50\n",
      "Paul Gregutt          41\n",
      "Sean P. Sullivan      33\n",
      "Matt Kettmann         27\n",
      "Joe Czerwinski        27\n",
      "Jim Gordon            23\n",
      "Anna Lee C. Iijima    22\n",
      "Kerin O’Keefe         13\n",
      "Lauren Buzzeo          8\n",
      "Anne Krebiehl MW       8\n",
      "Susan Kostrzewa        4\n",
      "Alexander Peartree     3\n",
      "Carrie Dykes           1\n",
      "Mike DeSimone          1\n",
      "Name: taster_name, dtype: int64\n"
     ]
    }
   ],
   "source": [
    "#We shall now look at what authors typically write in these categories.\n",
    "print('Our condensed data contains {} unique authors'.format(len(data_cond['taster_name'].unique())))\n",
    "\n",
    "#Plot distribution of authorship\n",
    "plt.title('Distribution of Authorship')\n",
    "data_cond['taster_name'].value_counts().plot(kind = 'bar', color = 'red')\n",
    "plt.xlabel('Author')\n",
    "plt.ylabel('Count')\n",
    "plt.show()\n",
    "\n",
    "print('\\nList of authors:\\n')\n",
    "print(data_cond['taster_name'].value_counts())"
   ]
  },
  {
   "cell_type": "markdown",
   "metadata": {},
   "source": [
    "### Authorship\n",
    "\n",
    "Let us explore the correlation between authorship and variety. If authors tend to write for particular wines, they might impart their particular linguistic style to their review which could impact in some small way the results of our model."
   ]
  },
  {
   "cell_type": "code",
   "execution_count": 10,
   "metadata": {},
   "outputs": [
    {
     "name": "stdout",
     "output_type": "stream",
     "text": [
      "Author to Variety Contingency Table\n",
      "\n",
      "Chi-Squared Test Statistic: 607.2239341996747\n",
      "P-Value: 2.659296425076017e-53\n",
      "Degrees of Freedom: 160\n"
     ]
    }
   ],
   "source": [
    "#We will now compare what authors tend to review what wine.\n",
    "auth_type = data_cond[['taster_name', 'variety']]\n",
    "\n",
    "#To do this, we will perform chi^2 testing, first we must create a contingency table\n",
    "contingency_table = pd.crosstab(data_cond['taster_name'], data_cond['variety'], margins = True)\n",
    "\n",
    "print('Author to Variety Contingency Table\\n')\n",
    "#dsp(contingency_table)\n",
    "\n",
    "\n",
    "#Plot histogram for every author based on how many of each variety they reviewed\n",
    "#plt.title('Author to Variety Heatmap')\n",
    "#sns.PairGrid(contingency_table)\n",
    "#plt.show()\n",
    "\n",
    "#We now run our chi^2 test on the contingency table we just generated\n",
    "chi2, p, dof, expected = stats.chi2_contingency(contingency_table)\n",
    "\n",
    "print('Chi-Squared Test Statistic: {}'.format(chi2))\n",
    "print('P-Value: {}'.format(p))\n",
    "print('Degrees of Freedom: {}'.format(dof))\n",
    "#print('Expected: {}'.format(expected))\n",
    "\n",
    "#Statistical analysis is overkill, observe histogram per person"
   ]
  },
  {
   "cell_type": "markdown",
   "metadata": {},
   "source": [
    "### Tokenization, Lemmatization and Vectorization\n",
    "\n",
    "At some point we need to vectorize our data. The way we can do this is by using the doc2bow method which uses the 'bag of words' approach to vectorizing data. Bag of words works by assining each word present in the corpus an index, then representing each sentence as a vector in the vector space created by all unique words in the corpus, where the component of the sentence vector in each axis is given by either the word frequency or word count (in this case) for the axis's unique word.\n",
    "\n",
    "Bag of words is one of the simplest methods of sentence vectorization, and makes a good proof of concept model, but there are other models that provide better utility for our ultimate goal."
   ]
  },
  {
   "cell_type": "code",
   "execution_count": 11,
   "metadata": {},
   "outputs": [
    {
     "name": "stdout",
     "output_type": "stream",
     "text": [
      "We now have 400 tokenized documents represented as <class 'list'>\n",
      "\n",
      "For example:\n",
      "['mediumbodied', 'appellation', 'wine', 'impressive', 'combination', 'crisp', 'red', 'fruit', 'rhubarb', 'watermelon', 'pomegranate', 'flavor', 'alongside', 'dash', 'orange', 'citrus', 'smooth', 'texture', 'add', 'whole', 'seasoning', 'allspice', 'finish', 'snappy', 'acidity']\n",
      "\n",
      "We have now vectorized our data into 400 vectors, for example:\n",
      "[(10, 1), (26, 1), (27, 1), (28, 1), (29, 1), (30, 1), (31, 1), (32, 1), (33, 1), (34, 1), (35, 1), (36, 1), (37, 1), (38, 1), (39, 1), (40, 1), (41, 1), (42, 1), (43, 1), (44, 1), (45, 1), (46, 1), (47, 1), (48, 1), (49, 1)]\n",
      "<class 'list'>\n"
     ]
    }
   ],
   "source": [
    "#We will now train a model to predict the variety of wine given its description\n",
    "\n",
    "#Next we need to lemmatize and tokenize the text\n",
    "texts = word_parser(data_cond['description'])\n",
    "\n",
    "#Sanity Check\n",
    "print('We now have {} tokenized documents represented as {}\\n'.format(len(texts), type(texts[1])))\n",
    "print('For example:\\n{}'.format(texts[1]))\n",
    "\n",
    "#We can now create a dictionary of terms\n",
    "dictionary = corpora.Dictionary(texts)\n",
    "\n",
    "#We can now vectorize our data by producing a document-term matrix\n",
    "corpus = [dictionary.doc2bow(text) for text in texts]\n",
    "print('\\nWe have now vectorized our data into {} vectors, for example:\\n{}'.format(len(corpus), corpus[1]))\n",
    "print(type(corpus[1]))\n",
    "\n",
    "#Count vectorizer from sklearn\n",
    "#The vectorizer has a method in it that tells what the word is.\n",
    "# .vocabulary_, get_feature_names()\n",
    "# sklearn linear models typically accept sparce matricies as input\n",
    "# Can do LDA through sklearn"
   ]
  },
  {
   "cell_type": "markdown",
   "metadata": {},
   "source": [
    "### Topic Extraction using TFIDF\n",
    "\n",
    "Lets first look at how term frequency - inverse document frequency (TF-IDF) handles our wine review data. TFIDF works by weighing terms which compares the frequency of these words within individual documents to how frequently documents contain the term.\n",
    "\n",
    "Intuitively, this makes sense as we expect terms like 'wine' et al to appear too frequently to be useful, whereas more specific terms (specific flavors et al) shouldn't appear in every review, but should be frequent enough when mentioned to be given a high score. Lets see what topics we pull out."
   ]
  },
  {
   "cell_type": "code",
   "execution_count": 12,
   "metadata": {},
   "outputs": [
    {
     "data": {
      "text/html": [
       "<div>\n",
       "<style scoped>\n",
       "    .dataframe tbody tr th:only-of-type {\n",
       "        vertical-align: middle;\n",
       "    }\n",
       "\n",
       "    .dataframe tbody tr th {\n",
       "        vertical-align: top;\n",
       "    }\n",
       "\n",
       "    .dataframe thead th {\n",
       "        text-align: right;\n",
       "    }\n",
       "</style>\n",
       "<table border=\"1\" class=\"dataframe\">\n",
       "  <thead>\n",
       "    <tr style=\"text-align: right;\">\n",
       "      <th></th>\n",
       "      <th>score</th>\n",
       "    </tr>\n",
       "  </thead>\n",
       "  <tbody>\n",
       "    <tr>\n",
       "      <th>jammy</th>\n",
       "      <td>5.895349</td>\n",
       "    </tr>\n",
       "    <tr>\n",
       "      <th>riesling</th>\n",
       "      <td>5.895349</td>\n",
       "    </tr>\n",
       "    <tr>\n",
       "      <th>reminiscent</th>\n",
       "      <td>5.895349</td>\n",
       "    </tr>\n",
       "    <tr>\n",
       "      <th>aging</th>\n",
       "      <td>5.895349</td>\n",
       "    </tr>\n",
       "    <tr>\n",
       "      <th>reductive</th>\n",
       "      <td>5.895349</td>\n",
       "    </tr>\n",
       "    <tr>\n",
       "      <th>lacks</th>\n",
       "      <td>5.895349</td>\n",
       "    </tr>\n",
       "    <tr>\n",
       "      <th>widely</th>\n",
       "      <td>5.895349</td>\n",
       "    </tr>\n",
       "    <tr>\n",
       "      <th>densely</th>\n",
       "      <td>5.895349</td>\n",
       "    </tr>\n",
       "    <tr>\n",
       "      <th>bay</th>\n",
       "      <td>5.895349</td>\n",
       "    </tr>\n",
       "    <tr>\n",
       "      <th>fist</th>\n",
       "      <td>5.895349</td>\n",
       "    </tr>\n",
       "  </tbody>\n",
       "</table>\n",
       "</div>"
      ],
      "text/plain": [
       "                score\n",
       "jammy        5.895349\n",
       "riesling     5.895349\n",
       "reminiscent  5.895349\n",
       "aging        5.895349\n",
       "reductive    5.895349\n",
       "lacks        5.895349\n",
       "widely       5.895349\n",
       "densely      5.895349\n",
       "bay          5.895349\n",
       "fist         5.895349"
      ]
     },
     "execution_count": 12,
     "metadata": {},
     "output_type": "execute_result"
    }
   ],
   "source": [
    "#Use sklearn tfidf to vectorize data\n",
    "term_score = tfidf_this(data_cond['description'], tfidf) #TODO find a way to implement lemmatization to this\n",
    "\n",
    "term_score.sort_values(by=['score'], ascending = False)[:10]"
   ]
  },
  {
   "cell_type": "markdown",
   "metadata": {},
   "source": [
    "### Topic Extraction Using Latent Dirichlet Allocation\n",
    "\n",
    "We can now use gensim's Latent Dirichlet Allocation (LDA) method to extract the top 'n' topics. LDA works by "
   ]
  },
  {
   "cell_type": "code",
   "execution_count": 13,
   "metadata": {},
   "outputs": [
    {
     "name": "stdout",
     "output_type": "stream",
     "text": [
      "(0, '0.023*\"flavor\" + 0.017*\"aroma\" + 0.017*\"cherry\" + 0.014*\"tannin\" + 0.013*\"plum\" + 0.013*\"finish\" + 0.012*\"palate\" + 0.011*\"fruit\" + 0.011*\"note\" + 0.011*\"red\" + 0.009*\"wine\" + 0.008*\"dark\" + 0.007*\"ripe\" + 0.007*\"blackberry\" + 0.007*\"light\" + 0.007*\"berry\" + 0.007*\"spice\" + 0.006*\"black\" + 0.006*\"hint\" + 0.005*\"oak\"')\n",
      "<class 'list'>\n"
     ]
    }
   ],
   "source": [
    "#We can now perform topic extraction using LDA\n",
    "ldamodel = gensim.models.ldamodel.LdaModel(corpus, num_topics= 10, id2word = dictionary, passes=20)\n",
    "\n",
    "#Print Results\n",
    "print(ldamodel.print_topics(num_topics = 10, num_words=20)[0])\n",
    "\n",
    "print(type(corpus))"
   ]
  },
  {
   "cell_type": "code",
   "execution_count": 16,
   "metadata": {},
   "outputs": [
    {
     "name": "stdout",
     "output_type": "stream",
     "text": [
      "<class 'numpy.ndarray'>\n",
      "\n",
      "\n",
      "Wine type: Pinot Noir\n",
      "\n",
      "(0, '0.017*\"wine\" + 0.012*\"finish\" + 0.012*\"acidity\" + 0.009*\"red\" + 0.007*\"fresh\" + 0.007*\"crisp\" + 0.007*\"fruit\" + 0.005*\"note\" + 0.005*\"creamy\" + 0.005*\"berry\" + 0.005*\"show\" + 0.005*\"lithe\" + 0.005*\"palate\" + 0.005*\"structured\" + 0.005*\"one\" + 0.005*\"currant\" + 0.005*\"vine\" + 0.005*\"orange\" + 0.005*\"estate\" + 0.005*\"next\"')\n",
      "\n",
      "\n",
      "Wine type: Chardonnay\n",
      "\n",
      "(0, '0.008*\"structured\" + 0.004*\"influence\" + 0.004*\"final\" + 0.004*\"year\" + 0.004*\"depth\" + 0.004*\"crisp\" + 0.004*\"wood\" + 0.004*\"preserved\" + 0.004*\"age\" + 0.004*\"fruity\" + 0.004*\"extra\" + 0.004*\"four\" + 0.004*\"thrust\" + 0.004*\"pair\" + 0.004*\"give\" + 0.004*\"crispness\" + 0.004*\"flavor\" + 0.004*\"citrus\" + 0.004*\"minerality\" + 0.004*\"plenty\"')\n",
      "\n",
      "\n",
      "Wine type: Red Blend\n",
      "\n",
      "(0, '0.004*\"aroma\" + 0.004*\"flavor\" + 0.004*\"finish\" + 0.004*\"long\" + 0.004*\"berry\" + 0.004*\"strawberry\" + 0.004*\"scent\" + 0.004*\"toast\" + 0.004*\"way\" + 0.004*\"oaky\" + 0.004*\"sweet\" + 0.004*\"seem\" + 0.004*\"air\" + 0.004*\"giving\" + 0.004*\"lighten\" + 0.004*\"cream\" + 0.004*\"raspberry\" + 0.004*\"blackberry\" + 0.004*\"red\" + 0.000*\"offer\"')\n",
      "\n",
      "\n",
      "Wine type: Cabernet Sauvignon\n",
      "\n",
      "(0, '0.016*\"black\" + 0.016*\"wine\" + 0.012*\"palate\" + 0.010*\"cherry\" + 0.010*\"aroma\" + 0.010*\"fruit\" + 0.008*\"flavor\" + 0.008*\"tannin\" + 0.006*\"finish\" + 0.006*\"dense\" + 0.006*\"juicy\" + 0.006*\"oak\" + 0.006*\"acidity\" + 0.006*\"ripe\" + 0.006*\"pepper\" + 0.006*\"smoke\" + 0.006*\"cassis\" + 0.004*\"varietal\" + 0.004*\"vintage\" + 0.004*\"licorice\"')\n",
      "\n",
      "\n",
      "Wine type: Riesling\n",
      "\n",
      "(0, '0.013*\"acidity\" + 0.010*\"riesling\" + 0.010*\"tangerine\" + 0.008*\"note\" + 0.008*\"peach\" + 0.008*\"scent\" + 0.008*\"fresh\" + 0.008*\"finish\" + 0.008*\"lime\" + 0.008*\"lemon\" + 0.008*\"add\" + 0.005*\"apple\" + 0.005*\"elegant\" + 0.005*\"style\" + 0.005*\"easydrinking\" + 0.005*\"brisk\" + 0.005*\"nuance\" + 0.005*\"dry\" + 0.005*\"green\" + 0.005*\"bright\"')\n",
      "\n",
      "\n",
      "Wine type: Sauvignon Blanc\n",
      "\n",
      "(0, '0.011*\"fruit\" + 0.008*\"wine\" + 0.007*\"ripe\" + 0.004*\"finish\" + 0.004*\"palate\" + 0.004*\"rich\" + 0.004*\"lemon\" + 0.004*\"nose\" + 0.004*\"sweet\" + 0.004*\"acidity\" + 0.004*\"exotic\" + 0.004*\"fully\" + 0.004*\"soft\" + 0.004*\"spiced\" + 0.004*\"suggests\" + 0.004*\"peel\" + 0.004*\"involve\" + 0.004*\"passion\" + 0.004*\"flesh\" + 0.004*\"creamy\"')\n",
      "\n",
      "\n",
      "Wine type: Syrah\n",
      "\n",
      "(0, '0.023*\"fruit\" + 0.014*\"wine\" + 0.012*\"flavor\" + 0.012*\"aroma\" + 0.010*\"barrel\" + 0.008*\"palate\" + 0.008*\"finish\" + 0.008*\"cherry\" + 0.008*\"note\" + 0.006*\"blackberry\" + 0.006*\"ripe\" + 0.006*\"plum\" + 0.006*\"vanilla\" + 0.006*\"style\" + 0.006*\"offer\" + 0.006*\"red\" + 0.004*\"mixture\" + 0.004*\"fresh\" + 0.004*\"herbal\" + 0.004*\"pepper\"')\n",
      "\n",
      "\n",
      "Wine type: Rosé\n",
      "\n",
      "(0, '0.008*\"fresh\" + 0.008*\"peach\" + 0.004*\"light\" + 0.004*\"wine\" + 0.004*\"flavor\" + 0.004*\"acidity\" + 0.004*\"little\" + 0.004*\"berry\" + 0.004*\"pit\" + 0.004*\"dilute\" + 0.004*\"held\" + 0.004*\"followed\" + 0.004*\"thats\" + 0.004*\"composition\" + 0.004*\"together\" + 0.004*\"aroma\" + 0.004*\"kick\" + 0.004*\"straightforward\" + 0.004*\"cookie\" + 0.004*\"sugar\"')\n",
      "\n",
      "\n",
      "Wine type: Malbec\n",
      "\n",
      "(0, '0.013*\"flavor\" + 0.010*\"aroma\" + 0.010*\"berry\" + 0.009*\"wine\" + 0.007*\"palate\" + 0.007*\"finish\" + 0.006*\"malbec\" + 0.006*\"fruit\" + 0.006*\"blueberry\" + 0.006*\"blackberry\" + 0.006*\"oak\" + 0.006*\"lead\" + 0.006*\"overall\" + 0.004*\"acidity\" + 0.004*\"note\" + 0.003*\"light\" + 0.003*\"may\" + 0.003*\"simple\" + 0.003*\"concentrated\" + 0.003*\"quick\"')\n",
      "\n",
      "\n",
      "Wine type: Merlot\n",
      "\n",
      "(0, '0.007*\"thin\" + 0.007*\"wine\" + 0.007*\"merlot\" + 0.004*\"dull\" + 0.004*\"nothing\" + 0.004*\"ordinary\" + 0.004*\"little\" + 0.004*\"else\" + 0.004*\"stand\" + 0.004*\"characterless\" + 0.004*\"clove\" + 0.004*\"spicy\" + 0.004*\"red\" + 0.004*\"olive\" + 0.004*\"thick\" + 0.004*\"pepper\" + 0.004*\"dark\" + 0.004*\"wall\" + 0.004*\"taste\" + 0.004*\"grilled\"')\n"
     ]
    }
   ],
   "source": [
    "#Create dataframe with vector and wine variety\n",
    "var_to_vect = pd.DataFrame()\n",
    "var_to_vect['variety'] = data_cond['variety']\n",
    "var_to_vect['corpus'] = corpus\n",
    "\n",
    "print(type(var_to_vect['corpus'].values))\n",
    "\n",
    "#Iterate through every variety of wine and perform LDA analysis\n",
    "for wine in wine_types:\n",
    "    \n",
    "    #Query by wine type\n",
    "    section = var_to_vect[var_to_vect['variety'] == wine]\n",
    "    \n",
    "    print('\\n\\nWine type: {}\\n'.format(wine))\n",
    "    \n",
    "    #Instantiate model\n",
    "    LDA_wine = gensim.models.ldamodel.LdaModel(section['corpus'], num_topics= 10, id2word = dictionary, passes=20)\n",
    "    \n",
    "    #Print topics associated with every wine type\n",
    "    print(LDA_wine.print_topics(num_topics = 10, num_words=20)[0])\n",
    "    \n",
    "    "
   ]
  },
  {
   "cell_type": "markdown",
   "metadata": {},
   "source": [
    "### Predictive modeling using Regression Analysis\n",
    "\n",
    "We can now implement and test several regression methods. The bag of words vectorization is known to be very susceptible to overfitting. We will be focused on our TF-IDF vectorization more than our bag of words."
   ]
  },
  {
   "cell_type": "code",
   "execution_count": null,
   "metadata": {},
   "outputs": [],
   "source": [
    "#Instantiate LDA model\n",
    "lda_model = LatentDirichletAllocation()\n",
    "\n",
    "X = tfidf.fit_transform(data_cond['description']) #Filter out stopwords and lemmatize, tokenize\n",
    "Y = data_cond['points-to-price']\n",
    "\n",
    "print(X.shape)\n",
    "\n",
    "lasso.fit(X, Y)\n",
    "print(lasso.coef_)\n",
    "\n",
    "#Wrong format, make sure words are features and document vecotrs are observations"
   ]
  },
  {
   "cell_type": "code",
   "execution_count": null,
   "metadata": {},
   "outputs": [],
   "source": [
    "#Create dictionary of reviews\n",
    "review_dict = {}\n",
    "\n",
    "for variety in wine_types:\n",
    "    review_dict[variety] = stringer(data_cond[data_cond['variety'] == variety]['description'].values)\n",
    "\n",
    "#Sanity Check\n",
    "print('We now have a dictionary of:', type(review_dict['Merlot']))"
   ]
  },
  {
   "cell_type": "markdown",
   "metadata": {},
   "source": [
    "# USE GENSIM for topic extraction\n",
    "# Spacy is another industry standard\n",
    "\n",
    "1. Clean data\n",
    "2. Stemming and lemma-ing, remove stop words\n",
    "3. Put into word vectors (ie word2vec)\n",
    "4. Topic extraction\n",
    "5. Analyze price distributions between topics"
   ]
  },
  {
   "cell_type": "code",
   "execution_count": null,
   "metadata": {},
   "outputs": [],
   "source": [
    "#Sample one-third of the total reviews.\n",
    "samp = data['description'].sample(n = 20, random_state = 101)\n",
    "\n",
    "#Stitch all reviews into one corpus for topic extraction\n",
    "corpus = stringer(samp)\n",
    "\n",
    "#parse text using spacy\n",
    "nlp = spacy.load('en')\n",
    "desc = nlp(corpus)"
   ]
  },
  {
   "cell_type": "markdown",
   "metadata": {},
   "source": [
    "## Clustering Reviews by Language\n",
    "\n",
    "To get a better idea of the linguistics used in our wine reviews, we will use unsupervised clustering techniques to group similar reviews. We can use this information to determine if there are dramatic differences in review styles and which authors tend to write what styles. We may even pull out certain attributes associated with these styles.\n",
    "\n",
    "There are several clustering techniques we could use, but the process by which we begin the process of modeling essentially begin the same; our linguistic observations (paragraphs, pages et al) are turned into vectors. One method of doing so is called the 'term-document matrix' (tdf). In tdf, stopwords such as 'the', 'is', 'and' et. al. are ignored, all other words are reduced to their lemmas (tasting => taste), and the presence-absense of each word (or the frequency therein) is encoded in a matrix in which each row represents a document, and each column represents a term.\n",
    "\n",
    "As it goes, words that appear often (such as the word 'wine' in our wine reviews) are much less impactful than less common words. We therefore need to penalize words that occur too often by calculating the inverse document frequency."
   ]
  },
  {
   "cell_type": "code",
   "execution_count": null,
   "metadata": {},
   "outputs": [],
   "source": [
    "#Split number\n",
    "spl = int(0.2 * data.shape[0])\n",
    "\n",
    "#Split data into training and test set\n",
    "data_train = data[spl:]\n",
    "data_test = data[:spl]\n",
    "\n",
    "#Sanity Check\n",
    "print(type(data['description']))\n",
    "desc = data['description']\n",
    "\n",
    "#We need to split our features seperately, as the vectorization process returns data in a different format\n",
    "X = tfidf.fit_transform(desc)\n",
    "\n",
    "#We can do this because the index carries over\n",
    "X_train = X[spl:]\n",
    "X_test = X[:spl]\n",
    "\n",
    "#Perform SVD on data\n",
    "X_train_lsa = lsa.fit_transform(X_train)\n",
    "\n",
    "print('Training set size: {}'.format(X_train.shape[0]))\n",
    "print('Test set size: {}'.format(X_test.shape[0]))\n",
    "\n",
    "#Set up our outcomes\n",
    "Y_train, Y_test = data_train['points-to-price'], data_test['points-to-price']\n",
    "\n",
    "#Lets explore our features\n",
    "print('Number of linguistic features: {} {}'.format(X_train.shape[1], X_test.shape[1]))\n",
    "\n",
    "#Most common terms\n",
    "terms = tfidf.get_feature_names()"
   ]
  }
 ],
 "metadata": {
  "kernelspec": {
   "display_name": "Python 3",
   "language": "python",
   "name": "python3"
  },
  "language_info": {
   "codemirror_mode": {
    "name": "ipython",
    "version": 3
   },
   "file_extension": ".py",
   "mimetype": "text/x-python",
   "name": "python",
   "nbconvert_exporter": "python",
   "pygments_lexer": "ipython3",
   "version": "3.6.8"
  }
 },
 "nbformat": 4,
 "nbformat_minor": 2
}
