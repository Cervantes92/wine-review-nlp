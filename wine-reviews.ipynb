{
 "cells": [
  {
   "cell_type": "code",
   "execution_count": 1,
   "metadata": {},
   "outputs": [],
   "source": [
    "import numpy as np\n",
    "import pandas as pd\n",
    "import spacy\n",
    "import re\n",
    "import matplotlib.pyplot as plt\n",
    "import seaborn as sns\n",
    "\n",
    "from IPython.display import display as dsp\n",
    "from nltk.corpus import stopwords\n",
    "from sklearn.feature_extraction.text import TfidfVectorizer\n",
    "from sklearn.cluster import KMeans\n",
    "from sklearn.decomposition import TruncatedSVD\n",
    "from sklearn.pipeline import make_pipeline\n",
    "from sklearn.preprocessing import Normalizer\n",
    "from scipy import stats\n",
    "#TODO: Change focus from authorship to quality / price"
   ]
  },
  {
   "cell_type": "code",
   "execution_count": 2,
   "metadata": {},
   "outputs": [],
   "source": [
    "#Where 'model' refers to decomposition model used for topic extraction\n",
    "#'vectorizer' refers to the model used to vectorize our linguistic data\n",
    "\n",
    "def get_top_words(model, vectorizer, n_top_words = 10):\n",
    "    \n",
    "    #Pull feature names from vectorizer\n",
    "    feature_names = vectorizer.get_feature_names()\n",
    "    \n",
    "    #Return top 'n' words\n",
    "    for topic_id, topic in enumerate(model.components_):\n",
    "        print('Topic: {} | {}'.format(topic_id, [feature_names[i] for i in topic.argsort()[:-n_top_words - 1: -1]]))\n",
    "        \n",
    "#Clean Text\n",
    "def text_cleaner(text):\n",
    "    \n",
    "    #Start by ensuring all excess whitespace is eliminated\n",
    "    text = ' '.join(text.split())\n",
    "    \n",
    "    return text"
   ]
  },
  {
   "cell_type": "code",
   "execution_count": null,
   "metadata": {},
   "outputs": [],
   "source": [
    "#Instantiate our tf-idf model\n",
    "tfidf = TfidfVectorizer(max_df=0.5, # drop words that occur in more than half the paragraphs\n",
    "                             min_df=2, # only use words that appear at least twice\n",
    "                             stop_words='english', \n",
    "                             lowercase=True, #convert everything to lower case\n",
    "                             use_idf=True,#we definitely want to use inverse document frequencies in our weighting\n",
    "                             norm=u'l2', #Applies a correction factor so that longer paragraphs and shorter paragraphs get treated equally\n",
    "                             smooth_idf=True #Adds 1 to all document frequencies, as if an extra document existed that used every word once.  Prevents divide-by-zero errors\n",
    "                            )\n",
    "\n",
    "\n",
    "#Instantiate truncated SVD for dimensionality reduction and create normalized pipeline\n",
    "svd = TruncatedSVD(400)\n",
    "lsa = make_pipeline(svd, Normalizer(copy = False))"
   ]
  },
  {
   "cell_type": "markdown",
   "metadata": {},
   "source": [
    "Data taken from kaggle\n",
    "https://www.kaggle.com/zynicide/wine-reviews\n",
    "\n",
    "# The Wine Review List\n",
    "\n",
    "What we have here is a dataset of wine reviews from the Wine Enthusiast magazine (https://www.winemag.com/?s=&drink_type=wine). This dataset has gained popularity as a training set to measure the capabilities of various classifiers, clustering algorithms and natural language processing models.\n",
    "\n",
    "There are several reasons why this dataset is so good for testing machine learning processes. First, the immense size of the dataset (at over 100'000 entries, each with a paragraph of text written by dozens of unique authors, with several other unique attributes such as title of the wine, type of wine, country of origin et al.\n",
    "\n",
    "There are dozens of potential projects, such as supervised learning techniques involving predicting the authorship of the wine review based on the metrics of the review itself, or unsupervised techniques such as clustering reviews and wine types."
   ]
  },
  {
   "cell_type": "markdown",
   "metadata": {},
   "source": [
    "## The Data\n",
    "\n",
    "We will first explore the form our data takes. We import the data as a pandas dataframe from a CSV file. There are several potential projects we could do using only a handful of columns from the original dataset, and thankfully, not very many entries countained null values we had to get rid of.\n",
    "\n",
    "We will start by exploring a subset of the columns available from the raw dataset, being: 'description', 'title', 'country', 'taster_name', and 'variety'."
   ]
  },
  {
   "cell_type": "code",
   "execution_count": 3,
   "metadata": {},
   "outputs": [
    {
     "name": "stdout",
     "output_type": "stream",
     "text": [
      "The raw dataset has 14 columns.\n",
      "Index(['Unnamed: 0', 'country', 'description', 'designation', 'points',\n",
      "       'price', 'province', 'region_1', 'region_2', 'taster_name',\n",
      "       'taster_twitter_handle', 'title', 'variety', 'winery'],\n",
      "      dtype='object')\n",
      "Original dataframe shape:(129971, 14)\n",
      "Final data shape:(96420, 7)\n"
     ]
    },
    {
     "name": "stderr",
     "output_type": "stream",
     "text": [
      "/usr/local/lib/python3.6/dist-packages/ipykernel_launcher.py:9: SettingWithCopyWarning: \n",
      "A value is trying to be set on a copy of a slice from a DataFrame\n",
      "\n",
      "See the caveats in the documentation: http://pandas.pydata.org/pandas-docs/stable/indexing.html#indexing-view-versus-copy\n",
      "  if __name__ == '__main__':\n"
     ]
    },
    {
     "data": {
      "text/html": [
       "<div>\n",
       "<style scoped>\n",
       "    .dataframe tbody tr th:only-of-type {\n",
       "        vertical-align: middle;\n",
       "    }\n",
       "\n",
       "    .dataframe tbody tr th {\n",
       "        vertical-align: top;\n",
       "    }\n",
       "\n",
       "    .dataframe thead th {\n",
       "        text-align: right;\n",
       "    }\n",
       "</style>\n",
       "<table border=\"1\" class=\"dataframe\">\n",
       "  <thead>\n",
       "    <tr style=\"text-align: right;\">\n",
       "      <th></th>\n",
       "      <th>description</th>\n",
       "      <th>points</th>\n",
       "      <th>price</th>\n",
       "      <th>title</th>\n",
       "      <th>country</th>\n",
       "      <th>taster_name</th>\n",
       "      <th>variety</th>\n",
       "    </tr>\n",
       "  </thead>\n",
       "  <tbody>\n",
       "    <tr>\n",
       "      <th>1</th>\n",
       "      <td>This is ripe and fruity, a wine that is smooth...</td>\n",
       "      <td>87</td>\n",
       "      <td>15.0</td>\n",
       "      <td>Quinta dos Avidagos 2011 Avidagos Red (Douro)</td>\n",
       "      <td>Portugal</td>\n",
       "      <td>Roger Voss</td>\n",
       "      <td>Portuguese Red</td>\n",
       "    </tr>\n",
       "    <tr>\n",
       "      <th>2</th>\n",
       "      <td>Tart and snappy, the flavors of lime flesh and...</td>\n",
       "      <td>87</td>\n",
       "      <td>14.0</td>\n",
       "      <td>Rainstorm 2013 Pinot Gris (Willamette Valley)</td>\n",
       "      <td>US</td>\n",
       "      <td>Paul Gregutt</td>\n",
       "      <td>Pinot Gris</td>\n",
       "    </tr>\n",
       "    <tr>\n",
       "      <th>3</th>\n",
       "      <td>Pineapple rind, lemon pith and orange blossom ...</td>\n",
       "      <td>87</td>\n",
       "      <td>13.0</td>\n",
       "      <td>St. Julian 2013 Reserve Late Harvest Riesling ...</td>\n",
       "      <td>US</td>\n",
       "      <td>Alexander Peartree</td>\n",
       "      <td>Riesling</td>\n",
       "    </tr>\n",
       "    <tr>\n",
       "      <th>4</th>\n",
       "      <td>Much like the regular bottling from 2012, this...</td>\n",
       "      <td>87</td>\n",
       "      <td>65.0</td>\n",
       "      <td>Sweet Cheeks 2012 Vintner's Reserve Wild Child...</td>\n",
       "      <td>US</td>\n",
       "      <td>Paul Gregutt</td>\n",
       "      <td>Pinot Noir</td>\n",
       "    </tr>\n",
       "    <tr>\n",
       "      <th>5</th>\n",
       "      <td>Blackberry and raspberry aromas show a typical...</td>\n",
       "      <td>87</td>\n",
       "      <td>15.0</td>\n",
       "      <td>Tandem 2011 Ars In Vitro Tempranillo-Merlot (N...</td>\n",
       "      <td>Spain</td>\n",
       "      <td>Michael Schachner</td>\n",
       "      <td>Tempranillo-Merlot</td>\n",
       "    </tr>\n",
       "  </tbody>\n",
       "</table>\n",
       "</div>"
      ],
      "text/plain": [
       "                                         description  points  price  \\\n",
       "1  This is ripe and fruity, a wine that is smooth...      87   15.0   \n",
       "2  Tart and snappy, the flavors of lime flesh and...      87   14.0   \n",
       "3  Pineapple rind, lemon pith and orange blossom ...      87   13.0   \n",
       "4  Much like the regular bottling from 2012, this...      87   65.0   \n",
       "5  Blackberry and raspberry aromas show a typical...      87   15.0   \n",
       "\n",
       "                                               title   country  \\\n",
       "1      Quinta dos Avidagos 2011 Avidagos Red (Douro)  Portugal   \n",
       "2      Rainstorm 2013 Pinot Gris (Willamette Valley)        US   \n",
       "3  St. Julian 2013 Reserve Late Harvest Riesling ...        US   \n",
       "4  Sweet Cheeks 2012 Vintner's Reserve Wild Child...        US   \n",
       "5  Tandem 2011 Ars In Vitro Tempranillo-Merlot (N...     Spain   \n",
       "\n",
       "          taster_name             variety  \n",
       "1          Roger Voss      Portuguese Red  \n",
       "2        Paul Gregutt          Pinot Gris  \n",
       "3  Alexander Peartree            Riesling  \n",
       "4        Paul Gregutt          Pinot Noir  \n",
       "5   Michael Schachner  Tempranillo-Merlot  "
      ]
     },
     "metadata": {},
     "output_type": "display_data"
    },
    {
     "name": "stdout",
     "output_type": "stream",
     "text": [
      "653\n"
     ]
    },
    {
     "name": "stderr",
     "output_type": "stream",
     "text": [
      "/usr/local/lib/python3.6/dist-packages/ipykernel_launcher.py:19: SettingWithCopyWarning: \n",
      "A value is trying to be set on a copy of a slice from a DataFrame.\n",
      "Try using .loc[row_indexer,col_indexer] = value instead\n",
      "\n",
      "See the caveats in the documentation: http://pandas.pydata.org/pandas-docs/stable/indexing.html#indexing-view-versus-copy\n"
     ]
    }
   ],
   "source": [
    "raw = pd.read_csv('wine-reviews/winemag-data-130k-v2.csv')\n",
    "print('The raw dataset has {} columns.'.format(len(raw.columns)))\n",
    "print(raw.columns)\n",
    "\n",
    "#print((raw['points'].unique()))\n",
    "#dsp(raw.head())\n",
    "\n",
    "data = raw[['description', 'points', 'price', 'title', 'country', 'taster_name', 'variety']]\n",
    "data.dropna(inplace = True)\n",
    "\n",
    "print(\"Original dataframe shape:{}\".format(raw.shape))\n",
    "print(\"Final data shape:{}\".format(data.shape))\n",
    "\n",
    "dsp(data.head())\n",
    "print(len(data.variety.unique()))\n",
    "\n",
    "\n",
    "#Clean text\n",
    "data['description'] = data['description'].apply(lambda x: text_cleaner(x))\n",
    "\n",
    "#Group reviewer-variety pairs\n",
    "\n",
    "#Compare how similar reviewers are within each variety\n",
    "\n",
    "#Use clustering to group varieties of wine into categories and\n",
    "#compare similarities and differences between authors' descriptions\n",
    "#within these."
   ]
  },
  {
   "cell_type": "markdown",
   "metadata": {},
   "source": [
    "## The Proposal\n",
    "\n",
    "Suppose we were a winery looking to perfect our formula with the goal of being a hit with the critics and either maximizing or minimizing the price point. Our approach to this problem would be to use natural language processing to find what concepts (flavors, scents et al) most strongly correlate to our business goals.\n",
    "\n",
    "For our purposes, we will assume that the price of the wine perfectly correlates with the manufacturing cost, and an optimal solution would be to maximize the quality to price ratio. We will first formulate an outcome variable and measure its intrisic properties."
   ]
  },
  {
   "cell_type": "code",
   "execution_count": 4,
   "metadata": {
    "scrolled": true
   },
   "outputs": [
    {
     "name": "stdout",
     "output_type": "stream",
     "text": [
      "There are a total of 381 unique prices over 96420 reviews.\n",
      "There are a total of 21 unique ratings over 96420 reviews.\n"
     ]
    },
    {
     "name": "stderr",
     "output_type": "stream",
     "text": [
      "/usr/local/lib/python3.6/dist-packages/ipykernel_launcher.py:8: SettingWithCopyWarning: \n",
      "A value is trying to be set on a copy of a slice from a DataFrame.\n",
      "Try using .loc[row_indexer,col_indexer] = value instead\n",
      "\n",
      "See the caveats in the documentation: http://pandas.pydata.org/pandas-docs/stable/indexing.html#indexing-view-versus-copy\n",
      "  \n"
     ]
    },
    {
     "data": {
      "text/plain": [
       "Text(0, 0.5, 'Number of Observations')"
      ]
     },
     "execution_count": 4,
     "metadata": {},
     "output_type": "execute_result"
    },
    {
     "data": {
      "image/png": "[encoded data removed]",
      "text/plain": [
       "<Figure size 432x288 with 1 Axes>"
      ]
     },
     "metadata": {
      "needs_background": "light"
     },
     "output_type": "display_data"
    }
   ],
   "source": [
    "print('There are a total of {} unique prices over {} reviews.'\n",
    "      .format(len(data['price'].unique()), data.shape[0]))\n",
    "\n",
    "print('There are a total of {} unique ratings over {} reviews.'\n",
    "      .format(len(data['points'].unique()), data.shape[0]))\n",
    "\n",
    "#Create outcome variable\n",
    "data['points-to-price'] = data['points'] / data['price']\n",
    "\n",
    "#Plot histogram of outcome\n",
    "plt.title('Distribution of Points-to-Price Ratios')\n",
    "data['points-to-price'].hist()\n",
    "####Labels####\n",
    "plt.xlabel('Pts-to-Price Ratio')\n",
    "plt.ylabel('Number of Observations')"
   ]
  },
  {
   "cell_type": "markdown",
   "metadata": {},
   "source": [
    "## Straight Points-to-Price Model\n",
    "\n",
    "__The Good News__\n",
    "\n",
    "There is nothing too odd going on in the distribution of the results.We have one peak and \n",
    "\n",
    "__The Bad News__\n",
    "\n",
    "Right skewed"
   ]
  },
  {
   "cell_type": "markdown",
   "metadata": {},
   "source": [
    "## Clustering Reviews by Language\n",
    "\n",
    "To get a better idea of the linguistics used in our wine reviews, we will use unsupervised clustering techniques to group similar reviews. We can use this information to determine if there are dramatic differences in review styles and which authors tend to write what styles. We may even pull out certain attributes associated with these styles.\n",
    "\n",
    "There are several clustering techniques we could use, but the process by which we begin the process of modeling essentially begin the same; our linguistic observations (paragraphs, pages et al) are turned into vectors. One method of doing so is called the 'term-document matrix' (tdf). In tdf, stopwords such as 'the', 'is', 'and' et. al. are ignored, all other words are reduced to their lemmas (tasting => taste), and the presence-absense of each word (or the frequency therein) is encoded in a matrix in which each row represents a document, and each column represents a term.\n",
    "\n",
    "As it goes, words that appear often (such as the word 'wine' in our wine reviews) are much less impactful than less common words. We therefore need to penalize words that occur too often by calculating the inverse document frequency."
   ]
  },
  {
   "cell_type": "code",
   "execution_count": 5,
   "metadata": {},
   "outputs": [
    {
     "name": "stdout",
     "output_type": "stream",
     "text": [
      "<class 'pandas.core.series.Series'>\n",
      "Training set size: 77136\n",
      "Test set size: 19284\n",
      "Number of linguistic features: 17391 17391\n"
     ]
    }
   ],
   "source": [
    "#Split number\n",
    "spl = int(0.2 * data.shape[0])\n",
    "\n",
    "#Split data into training and test set\n",
    "data_train = data[spl:]\n",
    "data_test = data[:spl]\n",
    "\n",
    "#Sanity Check\n",
    "print(type(data['description']))\n",
    "desc = data['description']\n",
    "\n",
    "#We need to split our features seperately, as the vectorization process returns data in a different format\n",
    "X = tfidf.fit_transform(desc)\n",
    "\n",
    "#We can do this because the index carries over\n",
    "X_train = X[spl:]\n",
    "X_test = X[:spl]\n",
    "\n",
    "\n",
    "########HIGHLIGHT#################\n",
    "#You may be able to pull out some\n",
    "#useful information here.\n",
    "#\n",
    "#Give commentary on this computation\n",
    "#\n",
    "#Show some common terms that came\n",
    "#out of the description. (ie top\n",
    "#n words)\n",
    "#\n",
    "#Result should be some displayed words.\n",
    "##################################\n",
    "\n",
    "print('Training set size: {}'.format(X_train.shape[0]))\n",
    "print('Test set size: {}'.format(X_test.shape[0]))\n",
    "\n",
    "#Set up our outcomes\n",
    "Y_train, Y_test = data_train['points-to-price'], data_test['points-to-price']\n",
    "\n",
    "#Lets explore our features\n",
    "print('Number of linguistic features: {} {}'.format(X_train.shape[1], X_test.shape[1]))\n",
    "\n",
    "#Most common terms\n",
    "terms = tfidf.get_feature_names()"
   ]
  },
  {
   "cell_type": "code",
   "execution_count": 8,
   "metadata": {},
   "outputs": [],
   "source": [
    "#Find top n words"
   ]
  },
  {
   "cell_type": "markdown",
   "metadata": {},
   "source": [
    "### Clustering\n",
    "\n",
    "We will now be using the K-means clustering algorithm on our newly vectorized dataset. We will set our model to predict as many clusters as there are authors, this way we can see if there is significant differences in linguistics between authors.\n",
    "\n",
    "We will be using the K-means clustering technique because we will be looking at the statistics of the syntax used by these authors, specifically, the inverse document frequency for every term. This gives us a nice normalized vector space to analyze. If in this vector space we are able to detect clusters of reviews, we can see how strongly the authorship of these reviews correlates to how the reviews cluster."
   ]
  },
  {
   "cell_type": "code",
   "execution_count": null,
   "metadata": {},
   "outputs": [],
   "source": [
    "#Initialize K-Means\n",
    "km_taster = KMeans(n_clusters = len(data['taster_name'].unique()), init='k-means++', \n",
    "                   max_iter=100, n_init=1)\n",
    "\n",
    "#Train model\n",
    "km_taster.fit(X_train)"
   ]
  },
  {
   "cell_type": "code",
   "execution_count": null,
   "metadata": {},
   "outputs": [],
   "source": [
    "#Category histogram\n",
    "plt.title('K-Means Cluster Distribution')\n",
    "plt.hist(km_taster.labels_)\n",
    "plt.xlabel('Cluster Label')\n",
    "plt.ylabel('n-clusters')\n",
    "\n",
    "print('Number of labels: {}'.format(len(km_taster.labels_)))"
   ]
  },
  {
   "cell_type": "code",
   "execution_count": null,
   "metadata": {},
   "outputs": [],
   "source": [
    "#Now we see how our algorithm clustered authorship.\n",
    "cluster_results = pd.DataFrame(data_train['taster_name'])\n",
    "cluster_results['cluster'] = km_taster.labels_\n",
    "\n",
    "#Display first 10 results\n",
    "dsp(cluster_results.head(10))"
   ]
  },
  {
   "cell_type": "code",
   "execution_count": null,
   "metadata": {
    "scrolled": true
   },
   "outputs": [],
   "source": [
    "tasters = cluster_results['taster_name'].unique()\n",
    "\n",
    "print('Number of tasters: {}'.format(len(tasters)))\n",
    "\n",
    "contingency_table = pd.crosstab(cluster_results['taster_name'],\n",
    "                               cluster_results['cluster'], margins = True)\n",
    "\n",
    "dsp(contingency_table)\n",
    "\n",
    "#TODO: Contingency table visual representation"
   ]
  },
  {
   "cell_type": "code",
   "execution_count": null,
   "metadata": {},
   "outputs": [],
   "source": [
    "#Perform chi-square test\n",
    "chi2, p, dof, expected = stats.chi2_contingency(contingency_table)\n",
    "\n",
    "print('Chi-Squared Test Statistic: {}'.format(chi2))\n",
    "print('P-Value: {}'.format(p))\n",
    "print('Degrees of Freedom: {}'.format(dof))\n",
    "#print('Expected: {}'.format(expected))"
   ]
  },
  {
   "cell_type": "markdown",
   "metadata": {},
   "source": [
    "### Clustering Results\n",
    "\n",
    "According to the statistical test, our clustering algorithm failed to highlight any correlation between authorship and syntax. This is good news for us as it allows us to explore correlations between our business goals and features the wineries have more control over."
   ]
  },
  {
   "cell_type": "markdown",
   "metadata": {},
   "source": [
    "### Content Analysis\n",
    "\n",
    "It is time to dig in to the meat and potatos of this project. We now want to perform feature extraction on the bodies of text that constitute our reviews and perform correlative analysis between those features and our outcome variable. "
   ]
  },
  {
   "cell_type": "code",
   "execution_count": null,
   "metadata": {},
   "outputs": [],
   "source": [
    "#Perform feature reduction\n",
    "\n",
    "#Instantiate model to reduce features to first 400\n",
    "svd = TruncatedSVD(400)\n",
    "lsa = make_pipeline(svd, Normalizer(copy = False))\n",
    "\n",
    "#Run SVD on training set and transform\n",
    "X_train_lsa = lsa.fit_transform(X_train)\n",
    "\n",
    "#Variance\n",
    "variance_explained=svd.explained_variance_ratio_\n",
    "total_variance = variance_explained.sum()\n",
    "print(\"Percent variance captured by all components: {}%\".format(total_variance*100))"
   ]
  },
  {
   "cell_type": "code",
   "execution_count": null,
   "metadata": {},
   "outputs": [],
   "source": [
    "#Instantiate and fit a machine learning algorithm\n",
    "print(type(X_train_lsa))\n",
    "print(X_train_lsa)\n",
    "print(X_train_lsa.shape)"
   ]
  },
  {
   "cell_type": "code",
   "execution_count": null,
   "metadata": {},
   "outputs": [],
   "source": [
    "#Explore model and find most impactful features."
   ]
  }
 ],
 "metadata": {
  "kernelspec": {
   "display_name": "Python 3",
   "language": "python",
   "name": "python3"
  },
  "language_info": {
   "codemirror_mode": {
    "name": "ipython",
    "version": 3
   },
   "file_extension": ".py",
   "mimetype": "text/x-python",
   "name": "python",
   "nbconvert_exporter": "python",
   "pygments_lexer": "ipython3",
   "version": "3.6.8"
  }
 },
 "nbformat": 4,
 "nbformat_minor": 2
}
