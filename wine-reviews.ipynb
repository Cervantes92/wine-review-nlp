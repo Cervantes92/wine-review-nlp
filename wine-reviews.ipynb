{
 "cells": [
  {
   "cell_type": "code",
   "execution_count": 1,
   "metadata": {},
   "outputs": [],
   "source": [
    "import numpy as np\n",
    "import pandas as pd\n",
    "import spacy\n",
    "import re\n",
    "import matplotlib.pyplot as plt\n",
    "import seaborn as sns\n",
    "import nltk\n",
    "import gensim\n",
    "\n",
    "from collections import Counter\n",
    "from IPython.display import display as dsp\n",
    "#from nltk.corpus import stopwords\n",
    "\n",
    "from sklearn.feature_extraction.text import TfidfVectorizer\n",
    "from sklearn.cluster import KMeans\n",
    "from sklearn.decomposition import TruncatedSVD, LatentDirichletAllocation\n",
    "from sklearn.pipeline import make_pipeline\n",
    "from sklearn.preprocessing import Normalizer\n",
    "from sklearn import linear_model\n",
    "\n",
    "from nltk.tokenize import RegexpTokenizer\n",
    "\n",
    "from gensim import corpora, models\n",
    "\n",
    "from scipy import stats\n",
    "\n",
    "#Stopwords dictionary\n",
    "stop = nltk.corpus.stopwords.words('english')"
   ]
  },
  {
   "cell_type": "code",
   "execution_count": 2,
   "metadata": {},
   "outputs": [],
   "source": [
    "#Instantiate our tf-idf model\n",
    "tfidf = TfidfVectorizer(max_df=0.5, # drop words that occur in more than half the paragraphs\n",
    "                             min_df=2, # only use words that appear at least twice\n",
    "                             stop_words='english', \n",
    "                             lowercase=True, #convert everything to lower case\n",
    "                             use_idf=True,#we definitely want to use inverse document frequencies in our weighting\n",
    "                             norm=u'l2', #Applies a correction factor so that longer paragraphs and shorter paragraphs get treated equally\n",
    "                             smooth_idf=True #Adds 1 to all document frequencies, as if an extra document existed that used every word once.  Prevents divide-by-zero errors\n",
    "                            )\n",
    "\n",
    "\n",
    "#Instantiate truncated SVD for dimensionality reduction and create normalized pipeline\n",
    "svd = TruncatedSVD(400)\n",
    "lsa = make_pipeline(svd, Normalizer(copy = False))\n",
    "\n",
    "#Instantiate stemmer, lemmatizer, and tokenizer\n",
    "w_tokenizer = nltk.tokenize.WhitespaceTokenizer()\n",
    "re_tokenizer = nltk.tokenize.RegexpTokenizer(r'\\w+')\n",
    "lemmatizer = nltk.stem.WordNetLemmatizer()\n",
    "p_stemmer = nltk.stem.porter.PorterStemmer()\n",
    "\n",
    "#Instantiate LDA model\n",
    "lda_model = LatentDirichletAllocation()\n",
    "\n",
    "#Instantiate linear model\n",
    "lasso = linear_model.Lasso(alpha=.35)"
   ]
  },
  {
   "cell_type": "code",
   "execution_count": 3,
   "metadata": {},
   "outputs": [],
   "source": [
    "# Utility function change entries in dataframe into collection of stemmed terms\n",
    "def word_parser(series):\n",
    "    texts = []\n",
    "    \n",
    "    for entry in series:\n",
    "        \n",
    "        #Lowercase\n",
    "        raw = entry.lower()\n",
    "        \n",
    "        #tokenize\n",
    "        tokens = w_tokenizer.tokenize(raw)\n",
    "        \n",
    "        #Removing stopwords and stemming\n",
    "        stemmed_tokens = []\n",
    "        for i in tokens:\n",
    "            if i not in stop:\n",
    "                stemmed_tokens.append(p_stemmer.stem(i))\n",
    "        \n",
    "        #Add to list\n",
    "        texts.append(stemmed_tokens)\n",
    "        \n",
    "    return texts\n",
    "        \n",
    "\n",
    "#Clean Text\n",
    "def text_cleaner(text):\n",
    "    \n",
    "    #Ensure all excess whitespace is removed\n",
    "    text = ' '.join(text.split())\n",
    "    \n",
    "    return text\n",
    "\n",
    "#String all parts of an array into one long string\n",
    "def stringer(series):\n",
    "    results = ''\n",
    "    for entry in series:\n",
    "        results += str(entry)\n",
    "        \n",
    "    return results"
   ]
  },
  {
   "cell_type": "markdown",
   "metadata": {},
   "source": [
    "Data taken from kaggle\n",
    "https://www.kaggle.com/zynicide/wine-reviews\n",
    "\n",
    "# The Wine Review List\n",
    "\n",
    "What we have here is a dataset of wine reviews from the Wine Enthusiast magazine (https://www.winemag.com/?s=&drink_type=wine). This dataset has gained popularity as a training set to measure the capabilities of various classifiers, clustering algorithms and natural language processing models.\n",
    "\n",
    "There are several reasons why this dataset is so good for testing machine learning processes. First, the immense size of the dataset (at over 100'000 entries, each with a paragraph of text written by dozens of unique authors, with several other unique attributes such as title of the wine, type of wine, country of origin et al.\n",
    "\n",
    "There are dozens of potential projects, such as supervised learning techniques involving predicting the authorship of the wine review based on the metrics of the review itself, or unsupervised techniques such as clustering reviews and wine types."
   ]
  },
  {
   "cell_type": "markdown",
   "metadata": {},
   "source": [
    "## The Data\n",
    "\n",
    "We will first explore the form our data takes. We import the data as a pandas dataframe from a CSV file. There are several potential projects we could do using only a handful of columns from the original dataset, and thankfully, not very many entries countained null values we had to get rid of.\n",
    "\n",
    "We will start by exploring a subset of the columns available from the raw dataset, being: 'description', 'title', 'country', 'taster_name', and 'variety'."
   ]
  },
  {
   "cell_type": "code",
   "execution_count": 4,
   "metadata": {},
   "outputs": [
    {
     "name": "stdout",
     "output_type": "stream",
     "text": [
      "The raw dataset has 14 columns.\n",
      "Index(['Unnamed: 0', 'country', 'description', 'designation', 'points',\n",
      "       'price', 'province', 'region_1', 'region_2', 'taster_name',\n",
      "       'taster_twitter_handle', 'title', 'variety', 'winery'],\n",
      "      dtype='object')\n",
      "Original raw data shape:(129971, 14)\n",
      "Dataframe shape:(96420, 7)\n"
     ]
    },
    {
     "name": "stderr",
     "output_type": "stream",
     "text": [
      "/usr/local/lib/python3.6/dist-packages/ipykernel_launcher.py:8: SettingWithCopyWarning: \n",
      "A value is trying to be set on a copy of a slice from a DataFrame\n",
      "\n",
      "See the caveats in the documentation: http://pandas.pydata.org/pandas-docs/stable/indexing.html#indexing-view-versus-copy\n",
      "  \n",
      "/usr/local/lib/python3.6/dist-packages/ipykernel_launcher.py:20: SettingWithCopyWarning: \n",
      "A value is trying to be set on a copy of a slice from a DataFrame.\n",
      "Try using .loc[row_indexer,col_indexer] = value instead\n",
      "\n",
      "See the caveats in the documentation: http://pandas.pydata.org/pandas-docs/stable/indexing.html#indexing-view-versus-copy\n"
     ]
    }
   ],
   "source": [
    "#Import raw data\n",
    "raw = pd.read_csv('wine-reviews/winemag-data-130k-v2.csv')\n",
    "print('The raw dataset has {} columns.'.format(len(raw.columns)))\n",
    "print(raw.columns)\n",
    "\n",
    "#Pull out columns of interest\n",
    "data = raw[['description', 'points', 'price', 'title', 'country', 'taster_name', 'variety']]\n",
    "data.dropna(inplace = True)\n",
    "\n",
    "#Chech final dataframe dimensions\n",
    "print(\"Original raw data shape:{}\".format(raw.shape))\n",
    "print(\"Dataframe shape:{}\".format(data.shape))\n",
    "\n",
    "#Check data formatting\n",
    "#dsp(data.head())\n",
    "#print(len(data.variety.unique()))\n",
    "\n",
    "\n",
    "#Clean text\n",
    "data['description'] = data['description'].apply(lambda x: text_cleaner(x))"
   ]
  },
  {
   "cell_type": "markdown",
   "metadata": {},
   "source": [
    "## Our Business Goal\n",
    "\n",
    "Suppose we were a winery looking to perfect our formula with the goal of being a hit with the critics and either maximizing or minimizing the price point. Our approach to this problem would be to use natural language processing to find what concepts (flavors, scents et al) most strongly correlate to our business goals.\n",
    "\n",
    "For our purposes, we will assume that the price of the wine perfectly correlates with the manufacturing cost, and an optimal solution would be to maximize the quality to price ratio. We will first formulate an outcome variable and measure its intrisic properties."
   ]
  },
  {
   "cell_type": "code",
   "execution_count": 5,
   "metadata": {},
   "outputs": [
    {
     "name": "stdout",
     "output_type": "stream",
     "text": [
      "There are a total of 381 unique prices over 96420 reviews.\n",
      "There are a total of 21 unique ratings over 96420 reviews.\n"
     ]
    },
    {
     "name": "stderr",
     "output_type": "stream",
     "text": [
      "/usr/local/lib/python3.6/dist-packages/ipykernel_launcher.py:8: SettingWithCopyWarning: \n",
      "A value is trying to be set on a copy of a slice from a DataFrame.\n",
      "Try using .loc[row_indexer,col_indexer] = value instead\n",
      "\n",
      "See the caveats in the documentation: http://pandas.pydata.org/pandas-docs/stable/indexing.html#indexing-view-versus-copy\n",
      "  \n"
     ]
    },
    {
     "data": {
      "text/plain": [
       "Text(0, 0.5, 'Number of Observations')"
      ]
     },
     "execution_count": 5,
     "metadata": {},
     "output_type": "execute_result"
    },
    {
     "data": {
      "image/png": "[encoded data removed]",
      "text/plain": [
       "<Figure size 432x288 with 1 Axes>"
      ]
     },
     "metadata": {
      "needs_background": "light"
     },
     "output_type": "display_data"
    }
   ],
   "source": [
    "print('There are a total of {} unique prices over {} reviews.'\n",
    "      .format(len(data['price'].unique()), data.shape[0]))\n",
    "\n",
    "print('There are a total of {} unique ratings over {} reviews.'\n",
    "      .format(len(data['points'].unique()), data.shape[0]))\n",
    "\n",
    "#Create outcome variable\n",
    "data['points-to-price'] = data['points'] / data['price']\n",
    "\n",
    "#Plot histogram of outcome\n",
    "plt.title('Distribution of Points-to-Price Ratios')\n",
    "data['points-to-price'].hist()\n",
    "\n",
    "####Labels####\n",
    "plt.xlabel('Pts-to-Price Ratio')\n",
    "plt.ylabel('Number of Observations')"
   ]
  },
  {
   "cell_type": "markdown",
   "metadata": {},
   "source": [
    "## Straight Points-to-Price Model\n",
    "\n",
    "__The Good News__\n",
    "\n",
    "There is nothing too odd going on in the distribution of the results. We have one peak in the \n",
    "\n",
    "__The Bad News__\n",
    "\n",
    "Our business outcome is right skewed. This will have to be adjusted."
   ]
  },
  {
   "cell_type": "code",
   "execution_count": 6,
   "metadata": {},
   "outputs": [
    {
     "data": {
      "text/html": [
       "<div>\n",
       "<style scoped>\n",
       "    .dataframe tbody tr th:only-of-type {\n",
       "        vertical-align: middle;\n",
       "    }\n",
       "\n",
       "    .dataframe tbody tr th {\n",
       "        vertical-align: top;\n",
       "    }\n",
       "\n",
       "    .dataframe thead th {\n",
       "        text-align: right;\n",
       "    }\n",
       "</style>\n",
       "<table border=\"1\" class=\"dataframe\">\n",
       "  <thead>\n",
       "    <tr style=\"text-align: right;\">\n",
       "      <th></th>\n",
       "      <th>description</th>\n",
       "      <th>points-to-price</th>\n",
       "    </tr>\n",
       "  </thead>\n",
       "  <tbody>\n",
       "    <tr>\n",
       "      <th>1</th>\n",
       "      <td>This is ripe and fruity, a wine that is smooth...</td>\n",
       "      <td>5.800000</td>\n",
       "    </tr>\n",
       "    <tr>\n",
       "      <th>2</th>\n",
       "      <td>Tart and snappy, the flavors of lime flesh and...</td>\n",
       "      <td>6.214286</td>\n",
       "    </tr>\n",
       "    <tr>\n",
       "      <th>3</th>\n",
       "      <td>Pineapple rind, lemon pith and orange blossom ...</td>\n",
       "      <td>6.692308</td>\n",
       "    </tr>\n",
       "    <tr>\n",
       "      <th>4</th>\n",
       "      <td>Much like the regular bottling from 2012, this...</td>\n",
       "      <td>1.338462</td>\n",
       "    </tr>\n",
       "    <tr>\n",
       "      <th>5</th>\n",
       "      <td>Blackberry and raspberry aromas show a typical...</td>\n",
       "      <td>5.800000</td>\n",
       "    </tr>\n",
       "  </tbody>\n",
       "</table>\n",
       "</div>"
      ],
      "text/plain": [
       "                                         description  points-to-price\n",
       "1  This is ripe and fruity, a wine that is smooth...         5.800000\n",
       "2  Tart and snappy, the flavors of lime flesh and...         6.214286\n",
       "3  Pineapple rind, lemon pith and orange blossom ...         6.692308\n",
       "4  Much like the regular bottling from 2012, this...         1.338462\n",
       "5  Blackberry and raspberry aromas show a typical...         5.800000"
      ]
     },
     "metadata": {},
     "output_type": "display_data"
    },
    {
     "data": {
      "image/png": "[encoded data removed]",
      "text/plain": [
       "<Figure size 432x288 with 1 Axes>"
      ]
     },
     "metadata": {
      "needs_background": "light"
     },
     "output_type": "display_data"
    }
   ],
   "source": [
    "#Fix right skew\n",
    "#data['points-to-price']\n",
    "\n",
    "#Plot histogram of outcome\n",
    "plt.title('Distribution of Points-to-Price Ratios')\n",
    "data['points-to-price'].hist()\n",
    "\n",
    "####Labels####\n",
    "plt.xlabel('Pts-to-Price Ratio')\n",
    "plt.ylabel('Number of Observations')\n",
    "\n",
    "#Show description|pts-to-price table\n",
    "dsp(data[['description', 'points-to-price']].head())"
   ]
  },
  {
   "cell_type": "markdown",
   "metadata": {},
   "source": [
    "## Grouping\n",
    "\n",
    "The first thing we want to work with is grouping reviews by type. Since reviews tend to mention properties of wine associated with its variety, we should be able to predict the variety of wine based on its review.\n",
    "\n",
    "To accomplish this, we will be looking at the top 10 most reviewed varieties of wine. We will sample 40 reviews from each of these varieties to ensure that we avoid class imbalance, as well as drastically reduce the computational cost of processing our 'proof of concept' stage before we roll the model out to the entire dataset. Afterwords, we will string these reviews together to form 'books' associated with each variety.\n",
    "\n",
    "Looking at the list of top 20 most reviewed wines, we can see a few 'such and such' style red blend. We are not yet interested in treating different subvarients of wines as separate varieties, so we will be particularly selective with what varieties of wine we include."
   ]
  },
  {
   "cell_type": "code",
   "execution_count": 7,
   "metadata": {},
   "outputs": [
    {
     "name": "stdout",
     "output_type": "stream",
     "text": [
      "Original dataframe shape:  (96420, 8)\n",
      "Balanced dataframe shape:  (400, 8)\n"
     ]
    }
   ],
   "source": [
    "#20 most reviewed varieties\n",
    "#print('20 Most Reviewed Wine Varieties:\\n',\n",
    "#      data['variety'].value_counts()[0:20])\n",
    "\n",
    "#Top main variety list\n",
    "wine_types = ['Pinot Noir', 'Chardonnay', 'Red Blend', 'Cabernet Sauvignon', 'Riesling', 'Sauvignon Blanc', 'Syrah',\n",
    "       'Rosé', 'Malbec', 'Merlot']\n",
    "\n",
    "#We will be using this dataset as a condensed representation of\n",
    "#our full dataset, this allows us to use more intensive NLP methods\n",
    "data_cond = pd.DataFrame(columns = data.columns)\n",
    "\n",
    "for variety in wine_types:\n",
    "    data_cond = pd.concat([data_cond, \n",
    "               data[data['variety'] == variety].sample(n = 40, random_state = 101)])\n",
    "\n",
    "print('Original dataframe shape: ', data.shape)\n",
    "print('Balanced dataframe shape: ', data_cond.shape)"
   ]
  },
  {
   "cell_type": "code",
   "execution_count": 8,
   "metadata": {},
   "outputs": [
    {
     "name": "stdout",
     "output_type": "stream",
     "text": [
      "Our condensed data contains 16 unique authors\n"
     ]
    },
    {
     "data": {
      "image/png": "[encoded data removed]",
      "text/plain": [
       "<Figure size 432x288 with 1 Axes>"
      ]
     },
     "metadata": {
      "needs_background": "light"
     },
     "output_type": "display_data"
    },
    {
     "name": "stdout",
     "output_type": "stream",
     "text": [
      "\n",
      "List of authors:\n",
      "\n",
      "Michael Schachner     73\n",
      "Roger Voss            66\n",
      "Virginie Boone        50\n",
      "Paul Gregutt          41\n",
      "Sean P. Sullivan      33\n",
      "Joe Czerwinski        27\n",
      "Matt Kettmann         27\n",
      "Jim Gordon            23\n",
      "Anna Lee C. Iijima    22\n",
      "Kerin O’Keefe         13\n",
      "Anne Krebiehl MW       8\n",
      "Lauren Buzzeo          8\n",
      "Susan Kostrzewa        4\n",
      "Alexander Peartree     3\n",
      "Carrie Dykes           1\n",
      "Mike DeSimone          1\n",
      "Name: taster_name, dtype: int64\n"
     ]
    }
   ],
   "source": [
    "#We shall now look at what authors typically write in these categories.\n",
    "print('Our condensed data contains {} unique authors'.format(len(data_cond['taster_name'].unique())))\n",
    "\n",
    "#Plot distribution of authorship\n",
    "plt.title('Distribution of Authorship')\n",
    "data_cond['taster_name'].value_counts().plot(kind = 'bar', color = 'red')\n",
    "plt.xlabel('Author')\n",
    "plt.ylabel('Count')\n",
    "plt.show()\n",
    "\n",
    "print('\\nList of authors:\\n')\n",
    "print(data_cond['taster_name'].value_counts())"
   ]
  },
  {
   "cell_type": "markdown",
   "metadata": {},
   "source": [
    "### Authorship\n",
    "\n",
    "Let us explore the correlation between authorship and variety. If authors tend to write for particular wines, they might impart their particular linguistic style to their review which could impact in some small way the results of our model."
   ]
  },
  {
   "cell_type": "code",
   "execution_count": 9,
   "metadata": {},
   "outputs": [
    {
     "name": "stdout",
     "output_type": "stream",
     "text": [
      "Author to Variety Contingency Table\n",
      "\n",
      "Chi-Squared Test Statistic: 607.2239341996747\n",
      "P-Value: 2.659296425076017e-53\n",
      "Degrees of Freedom: 160\n"
     ]
    }
   ],
   "source": [
    "#We will now compare what authors tend to review what wine.\n",
    "auth_type = data_cond[['taster_name', 'variety']]\n",
    "\n",
    "#To do this, we will perform chi^2 testing, first we must create a contingency table\n",
    "contingency_table = pd.crosstab(data_cond['taster_name'], data_cond['variety'], margins = True)\n",
    "\n",
    "print('Author to Variety Contingency Table\\n')\n",
    "#dsp(contingency_table)\n",
    "\n",
    "\n",
    "#Plot histogram for every author based on how many of each variety they reviewed\n",
    "#plt.title('Author to Variety Heatmap')\n",
    "#sns.PairGrid(contingency_table)\n",
    "#plt.show()\n",
    "\n",
    "#We now run our chi^2 test on the contingency table we just generated\n",
    "chi2, p, dof, expected = stats.chi2_contingency(contingency_table)\n",
    "\n",
    "print('Chi-Squared Test Statistic: {}'.format(chi2))\n",
    "print('P-Value: {}'.format(p))\n",
    "print('Degrees of Freedom: {}'.format(dof))\n",
    "#print('Expected: {}'.format(expected))\n",
    "\n",
    "#Statistical analysis is overkill, observe histogram per person"
   ]
  },
  {
   "cell_type": "markdown",
   "metadata": {},
   "source": [
    "### Tokenization, Lemmatization and Vectorization\n",
    "\n",
    "At some point, we need to vectorize our data. The way we can do this is by using the doc2bow method which uses the 'bag of words' approach to vectorizing data. Bag of words works by assining each word present in the corpus an index, then representing each sentence as a vector in the vector space created by all unique words in the corpus, where the component of the sentence vector in each axis is given by either the word frequency or word count (in this case) for the axis's unique word.\n",
    "\n",
    "Bag of words is one of the simplest methods of sentence vectorization, and makes a good proof of concept model, but there are other models that provide better utility for our ultimate goal."
   ]
  },
  {
   "cell_type": "code",
   "execution_count": 10,
   "metadata": {},
   "outputs": [
    {
     "name": "stdout",
     "output_type": "stream",
     "text": [
      "We now have 400 tokenized documents represented as <class 'list'>\n",
      "\n",
      "For example:\n",
      "['medium-bodi', 'appel', 'wine', 'impress', 'combin', 'crisp', 'red', 'fruit,', 'rhubarb,', 'watermelon', 'pomegran', 'flavor', 'alongsid', 'dash', 'orang', 'citrus.', 'smooth', 'textur', 'add', 'whole,', 'season', 'allspice,', 'finish', 'snappi', 'acidity.']\n",
      "\n",
      "We have now vectorized our data into 400 vectors, for example:\n",
      "[(10, 1), (26, 1), (27, 1), (28, 1), (29, 1), (30, 1), (31, 1), (32, 1), (33, 1), (34, 1), (35, 1), (36, 1), (37, 1), (38, 1), (39, 1), (40, 1), (41, 1), (42, 1), (43, 1), (44, 1), (45, 1), (46, 1), (47, 1), (48, 1), (49, 1)]\n",
      "<class 'list'>\n"
     ]
    }
   ],
   "source": [
    "#We will now train a model to predict the variety of wine given its description\n",
    "\n",
    "#First we will need to remove all stopwords\n",
    "#data_cond['description'] = data_cond['description'].apply(lambda x: item for item in x if item not in stop)\n",
    "\n",
    "#Next we need to lemmatize and tokenize the text\n",
    "texts = word_parser(data_cond['description'])\n",
    "\n",
    "#Sanity Check\n",
    "print('We now have {} tokenized documents represented as {}\\n'.format(len(texts), type(texts[1])))\n",
    "print('For example:\\n{}'.format(texts[1]))\n",
    "\n",
    "#We can now create a dictionary of terms\n",
    "dictionary = corpora.Dictionary(texts)\n",
    "\n",
    "#We can now vectorize our data by producing a document-term matrix\n",
    "corpus = [dictionary.doc2bow(text) for text in texts]\n",
    "print('\\nWe have now vectorized our data into {} vectors, for example:\\n{}'.format(len(corpus), corpus[1]))\n",
    "print(type(corpus[1]))\n",
    "\n",
    "#Count vectorizer from sklearn\n",
    "#The vectorizer has a method in it that tells what the word is.\n",
    "# .vocabulary_, get_feature_names()\n",
    "# sklearn linear models typically accept sparce matricies as input\n",
    "# Can do LDA through sklearn"
   ]
  },
  {
   "cell_type": "code",
   "execution_count": 20,
   "metadata": {},
   "outputs": [
    {
     "name": "stdout",
     "output_type": "stream",
     "text": [
      "<class 'numpy.ndarray'>\n"
     ]
    }
   ],
   "source": [
    "#Use sklearn tfidf to vectorize data\n",
    "\n",
    "#Fit model\n",
    "x = tfidf.fit_transform(data_cond['description'])\n",
    "\n",
    "#Dictionary of terms: mapping of terms to their respective index\n",
    "dict_sklearn = tfidf.vocabulary_\n",
    "\n",
    "#Sparse matrix representation of our data\n",
    "cor_sklearn = tfidf.idf_\n",
    "print(type(cor_sklearn))"
   ]
  },
  {
   "cell_type": "markdown",
   "metadata": {},
   "source": [
    "### Topic Extraction Using Latent Dirichlet Allocation\n",
    "\n",
    "We can now use gensim's Latent Dirichlet Allocation (LDA) method to extract the top 'n' topics. LDA works by "
   ]
  },
  {
   "cell_type": "code",
   "execution_count": null,
   "metadata": {},
   "outputs": [],
   "source": [
    "#We can now perform topic extraction using LDA\n",
    "ldamodel = gensim.models.ldamodel.LdaModel(corpus, num_topics= 1, id2word = dictionary, passes=20)\n",
    "\n",
    "#Print Results\n",
    "print(ldamodel.print_topics(num_topics=len(wine_types) * 2, num_words=20))"
   ]
  },
  {
   "cell_type": "markdown",
   "metadata": {},
   "source": [
    "### Predictive modeling using LASSO regression\n",
    "\n",
    "We now can implement a predictive model to find how the linguistics of the review are related to our business goal.\n",
    "\n",
    "The bag of words approach to vectorization is known to be susceptible to overfitting."
   ]
  },
  {
   "cell_type": "code",
   "execution_count": 25,
   "metadata": {},
   "outputs": [
    {
     "ename": "TypeError",
     "evalue": "object of type 'Lasso' has no len()",
     "output_type": "error",
     "traceback": [
      "\u001b[0;31m---------------------------------------------------------------------------\u001b[0m",
      "\u001b[0;31mTypeError\u001b[0m                                 Traceback (most recent call last)",
      "\u001b[0;32m<ipython-input-25-803137743246>\u001b[0m in \u001b[0;36m<module>\u001b[0;34m\u001b[0m\n\u001b[1;32m      3\u001b[0m \u001b[0;34m\u001b[0m\u001b[0m\n\u001b[1;32m      4\u001b[0m \u001b[0mlasso\u001b[0m\u001b[0;34m.\u001b[0m\u001b[0mfit\u001b[0m\u001b[0;34m(\u001b[0m\u001b[0mX\u001b[0m\u001b[0;34m,\u001b[0m \u001b[0mY\u001b[0m\u001b[0;34m)\u001b[0m\u001b[0;34m\u001b[0m\u001b[0;34m\u001b[0m\u001b[0m\n\u001b[0;32m----> 5\u001b[0;31m \u001b[0mprint\u001b[0m\u001b[0;34m(\u001b[0m\u001b[0mlen\u001b[0m\u001b[0;34m(\u001b[0m\u001b[0mlasso\u001b[0m\u001b[0;34m)\u001b[0m\u001b[0;34m)\u001b[0m\u001b[0;34m\u001b[0m\u001b[0;34m\u001b[0m\u001b[0m\n\u001b[0m",
      "\u001b[0;31mTypeError\u001b[0m: object of type 'Lasso' has no len()"
     ]
    }
   ],
   "source": [
    "X = tfidf.fit_transform(data_cond['description'])\n",
    "Y = data_cond['points-to-price']\n",
    "\n",
    "lasso.fit(X, Y)\n",
    "print(lasso.coef_)"
   ]
  },
  {
   "cell_type": "code",
   "execution_count": null,
   "metadata": {},
   "outputs": [],
   "source": [
    "#Create dictionary of reviews\n",
    "review_dict = {}\n",
    "\n",
    "for variety in wine_types:\n",
    "    review_dict[variety] = stringer(data_cond[data_cond['variety'] == variety]['description'].values)\n",
    "\n",
    "#Sanity Check\n",
    "print('We now have a dictionary of:', type(review_dict['Merlot']))"
   ]
  },
  {
   "cell_type": "markdown",
   "metadata": {},
   "source": [
    "## Topic Extraction\n",
    "\n",
    "We will use __Term Frequency-Inverse Document Frequency__ (TFIDF) to extract the features for our corpus. This will give us some insights into some of the common threads available in our reviews we can use to better understand what properties of wine the critics observe.\n",
    "\n",
    "TF-IDF works by subtracting the inverse of how often a term appears in a document from the whole-corpus term frequency (all of these measurements being normalized). Thus, a term that appears numerous times in a handful of sentences will be given a higher score than a term that appears in almost all of the sentences. This works best for us because there will be numerous useless terms that likely appear in all sentences (wine, taste, smell) and useful terms that will appear in only a few sentences (such as specific smells and tastes).\n",
    "\n",
    "We will be treating every review as its own document to maximize the number of high scoring terms unique to the reviews.\n",
    "\n",
    "# USE GENSIM for topic extraction\n",
    "# Spacy is another industry standard\n",
    "\n",
    "1. Clean data\n",
    "2. Stemming and lemma-ing, remove stop words\n",
    "3. Put into word vectors (ie word2vec)\n",
    "4. Topic extraction\n",
    "5. Analyze price distributions between topics"
   ]
  },
  {
   "cell_type": "code",
   "execution_count": null,
   "metadata": {},
   "outputs": [],
   "source": [
    "#Sample one-third of the total reviews.\n",
    "samp = data['description'].sample(n = 20, random_state = 101)\n",
    "\n",
    "#Stitch all reviews into one corpus for topic extraction\n",
    "corpus = stringer(samp)\n",
    "\n",
    "#parse text using spacy\n",
    "nlp = spacy.load('en')\n",
    "desc = nlp(corpus)"
   ]
  },
  {
   "cell_type": "markdown",
   "metadata": {},
   "source": [
    "## Clustering Reviews by Language\n",
    "\n",
    "To get a better idea of the linguistics used in our wine reviews, we will use unsupervised clustering techniques to group similar reviews. We can use this information to determine if there are dramatic differences in review styles and which authors tend to write what styles. We may even pull out certain attributes associated with these styles.\n",
    "\n",
    "There are several clustering techniques we could use, but the process by which we begin the process of modeling essentially begin the same; our linguistic observations (paragraphs, pages et al) are turned into vectors. One method of doing so is called the 'term-document matrix' (tdf). In tdf, stopwords such as 'the', 'is', 'and' et. al. are ignored, all other words are reduced to their lemmas (tasting => taste), and the presence-absense of each word (or the frequency therein) is encoded in a matrix in which each row represents a document, and each column represents a term.\n",
    "\n",
    "As it goes, words that appear often (such as the word 'wine' in our wine reviews) are much less impactful than less common words. We therefore need to penalize words that occur too often by calculating the inverse document frequency."
   ]
  },
  {
   "cell_type": "code",
   "execution_count": null,
   "metadata": {},
   "outputs": [],
   "source": [
    "#Split number\n",
    "spl = int(0.2 * data.shape[0])\n",
    "\n",
    "#Split data into training and test set\n",
    "data_train = data[spl:]\n",
    "data_test = data[:spl]\n",
    "\n",
    "#Sanity Check\n",
    "print(type(data['description']))\n",
    "desc = data['description']\n",
    "\n",
    "#We need to split our features seperately, as the vectorization process returns data in a different format\n",
    "X = tfidf.fit_transform(desc)\n",
    "\n",
    "#We can do this because the index carries over\n",
    "X_train = X[spl:]\n",
    "X_test = X[:spl]\n",
    "\n",
    "#Perform SVD on data\n",
    "X_train_lsa = lsa.fit_transform(X_train)\n",
    "\n",
    "print('Training set size: {}'.format(X_train.shape[0]))\n",
    "print('Test set size: {}'.format(X_test.shape[0]))\n",
    "\n",
    "#Set up our outcomes\n",
    "Y_train, Y_test = data_train['points-to-price'], data_test['points-to-price']\n",
    "\n",
    "#Lets explore our features\n",
    "print('Number of linguistic features: {} {}'.format(X_train.shape[1], X_test.shape[1]))\n",
    "\n",
    "#Most common terms\n",
    "terms = tfidf.get_feature_names()"
   ]
  }
 ],
 "metadata": {
  "kernelspec": {
   "display_name": "Python 3",
   "language": "python",
   "name": "python3"
  },
  "language_info": {
   "codemirror_mode": {
    "name": "ipython",
    "version": 3
   },
   "file_extension": ".py",
   "mimetype": "text/x-python",
   "name": "python",
   "nbconvert_exporter": "python",
   "pygments_lexer": "ipython3",
   "version": "3.6.8"
  }
 },
 "nbformat": 4,
 "nbformat_minor": 2
}
