{
 "cells": [
  {
   "cell_type": "code",
   "execution_count": 1,
   "metadata": {},
   "outputs": [],
   "source": [
    "import numpy as np\n",
    "import pandas as pd\n",
    "import spacy\n",
    "import re\n",
    "import matplotlib.pyplot as plt\n",
    "import seaborn as sns\n",
    "import nltk\n",
    "import gensim\n",
    "import string\n",
    "\n",
    "#from collections import Counter\n",
    "from IPython.display import display as dsp\n",
    "#from nltk.corpus import stopwords\n",
    "\n",
    "from sklearn.feature_extraction.text import TfidfVectorizer\n",
    "from sklearn.cluster import KMeans\n",
    "from sklearn.decomposition import TruncatedSVD, LatentDirichletAllocation\n",
    "from sklearn.pipeline import make_pipeline\n",
    "from sklearn.preprocessing import Normalizer\n",
    "from sklearn import linear_model\n",
    "from sklearn.ensemble import GradientBoostingRegressor, RandomForestRegressor\n",
    "from nltk.tokenize import RegexpTokenizer\n",
    "from nltk.stem import WordNetLemmatizer\n",
    "\n",
    "from gensim import corpora, models\n",
    "\n",
    "from scipy import stats\n",
    "\n",
    "#Stopwords dictionary\n",
    "stop = nltk.corpus.stopwords.words('english')"
   ]
  },
  {
   "cell_type": "code",
   "execution_count": 2,
   "metadata": {},
   "outputs": [],
   "source": [
    "#Instantiate truncated SVD for dimensionality reduction and create normalized pipeline\n",
    "svd = TruncatedSVD(400)\n",
    "lsa = make_pipeline(svd, Normalizer(copy = False))\n",
    "\n",
    "#Instantiate stemmer, lemmatizer, and tokenizer\n",
    "w_tokenizer = nltk.tokenize.WhitespaceTokenizer()\n",
    "lemmatizer = nltk.stem.WordNetLemmatizer()\n",
    "\n",
    "#Instantiate linear model\n",
    "lasso = linear_model.Lasso()\n",
    "\n",
    "#Instantiate Ensemble Models\n",
    "rfr = RandomForestRegressor()"
   ]
  },
  {
   "cell_type": "code",
   "execution_count": 19,
   "metadata": {},
   "outputs": [],
   "source": [
    "# Utility function change entries in dataframe into collection of stemmed terms\n",
    "def word_parser(series):\n",
    "    texts = []\n",
    "    \n",
    "    for entry in series:\n",
    "        \n",
    "        #Lowercase\n",
    "        raw = entry.lower()\n",
    "        \n",
    "        #tokenize\n",
    "        tokens = w_tokenizer.tokenize(raw)\n",
    "        \n",
    "        #Removing stopwords and lemmatization\n",
    "        \n",
    "        stemmed_tokens = []\n",
    "        for i in tokens:\n",
    "            if i not in stop:\n",
    "                stemmed_tokens.append(lemmatizer.lemmatize(i))\n",
    "        \n",
    "        #Add to list\n",
    "        texts.append(stemmed_tokens)\n",
    "        \n",
    "    return texts\n",
    "        \n",
    "\n",
    "#Clean Text\n",
    "def text_cleaner(text):\n",
    "    \n",
    "    #Ensure all excess whitespace is removed, lowercase\n",
    "    text = ' '.join(text.split())\n",
    "    \n",
    "    #Remove non-alphabetical characters(and not spaces)\n",
    "    text = ''.join(c for c in text if c.isalpha() or c == ' ')\n",
    "    \n",
    "    #Lemmatize\n",
    "    text_array = w_tokenizer.tokenize(text)\n",
    "    for word in text_array:\n",
    "        text.join(lemmatizer.lemmatize(word))\n",
    "        text.join(' ')\n",
    "    #text = ' '.join(lemmatizer.lemmatize(w) for w in w_tokenizer.tokenize(text))\n",
    "    \n",
    "    return text\n",
    "\n",
    "#String all parts of an array into one long string\n",
    "def stringer(series):\n",
    "    results = ''\n",
    "    for entry in series:\n",
    "        results += str(entry)\n",
    "        \n",
    "    return results\n",
    "\n",
    "#Function to perform tfidf on a series of document and return a dataframe of terms and their score.\n",
    "def tfidf_this(series, tfidf):\n",
    "    #Fit model\n",
    "    x = tfidf.fit_transform(series)\n",
    "\n",
    "    #Map results to same dataframe\n",
    "    tfidf_results = pd.DataFrame(index = tfidf.vocabulary_)\n",
    "    #tfidf_results['term'] = tfidf.vocabulary_\n",
    "    tfidf_results['score'] = tfidf.idf_\n",
    "    \n",
    "    #Return results\n",
    "    return tfidf_results\n",
    "\n",
    "def train_test_score(model, X, Y, hold_over = 0.25):\n",
    "    \n",
    "    split = int(len(Y) * hold_over)\n",
    "    \n",
    "    X_train, Y_train, X_test, Y_test = X[split:], Y[split:], X[:split], Y[:split]\n",
    "    \n",
    "    print('Fitting Model...')\n",
    "    model.fit(X_train, Y_train)\n",
    "    print('Done!\\n')\n",
    "    \n",
    "    print('Model Score: {}'.format(model.score(X_train, Y_train)))\n",
    "    print('Holdover Score: {}'.format(model.score(X_test, Y_test)))\n",
    "    \n",
    "def return_feature_importance(model, terms):\n",
    "    results = pd.DataFrame()\n",
    "    results['terms'] = terms\n",
    "    results['importance'] = model.feature_importances_\n",
    "    results.reset_index(inplace = True)\n",
    "    \n",
    "    return results\n",
    "    "
   ]
  },
  {
   "cell_type": "code",
   "execution_count": 4,
   "metadata": {},
   "outputs": [],
   "source": [
    "#Instantiate our tf-idf model\n",
    "tfidf = TfidfVectorizer(max_df=0.5, # drop words that occur in more than half the paragraphs\n",
    "                             min_df=2, # only use words that appear at least twice\n",
    "                             stop_words='english',\n",
    "                             lowercase=True, #convert everything to lower case\n",
    "                             use_idf=True,#we definitely want to use inverse document frequencies in our weighting\n",
    "                             norm=u'l2', #Applies a correction factor so that longer paragraphs and shorter paragraphs get treated equally\n",
    "                             smooth_idf=True #Adds 1 to all document frequencies, as if an extra document existed that used every word once.  Prevents divide-by-zero errors\n",
    "                            )"
   ]
  },
  {
   "cell_type": "markdown",
   "metadata": {},
   "source": [
    "Data taken from kaggle\n",
    "https://www.kaggle.com/zynicide/wine-reviews\n",
    "\n",
    "# The Wine Review List\n",
    "\n",
    "What we have here is a dataset of wine reviews from the Wine Enthusiast magazine (https://www.winemag.com/?s=&drink_type=wine). This dataset has gained popularity as a training set to measure the capabilities of various classifiers, clustering algorithms and natural language processing models.\n",
    "\n",
    "There are several reasons why this dataset is so good for testing machine learning processes. First, the immense size of the dataset (at over 100'000 entries, each with a paragraph of text written by dozens of unique authors, with several other unique attributes such as title of the wine, type of wine, country of origin et al.\n",
    "\n",
    "There are dozens of potential projects, such as supervised learning techniques involving predicting the authorship of the wine review based on the metrics of the review itself, or unsupervised techniques such as clustering reviews and wine types."
   ]
  },
  {
   "cell_type": "markdown",
   "metadata": {},
   "source": [
    "## The Data\n",
    "\n",
    "We will first explore the form our data takes. We import the data as a pandas dataframe from a CSV file. There are several potential projects we could do using only a handful of columns from the original dataset, and thankfully, not very many entries countained null values we had to get rid of.\n",
    "\n",
    "We will start by exploring a subset of the columns available from the raw dataset, being: 'description', 'title', 'country', 'taster_name', and 'variety'."
   ]
  },
  {
   "cell_type": "code",
   "execution_count": 5,
   "metadata": {},
   "outputs": [
    {
     "name": "stdout",
     "output_type": "stream",
     "text": [
      "The raw dataset has 14 columns.\n",
      "Index(['Unnamed: 0', 'country', 'description', 'designation', 'points',\n",
      "       'price', 'province', 'region_1', 'region_2', 'taster_name',\n",
      "       'taster_twitter_handle', 'title', 'variety', 'winery'],\n",
      "      dtype='object')\n"
     ]
    },
    {
     "name": "stderr",
     "output_type": "stream",
     "text": [
      "/usr/local/lib/python3.6/dist-packages/ipykernel_launcher.py:8: SettingWithCopyWarning: \n",
      "A value is trying to be set on a copy of a slice from a DataFrame\n",
      "\n",
      "See the caveats in the documentation: http://pandas.pydata.org/pandas-docs/stable/indexing.html#indexing-view-versus-copy\n",
      "  \n"
     ]
    },
    {
     "name": "stdout",
     "output_type": "stream",
     "text": [
      "Original raw data shape:(129971, 14)\n",
      "Dataframe shape:(96420, 7)\n",
      "This is ripe and fruity a wine that is smooth while still structured Firm tannins are filled out with juicy red berry fruits and freshened with acidity Its already drinkable although it will certainly be better from \n"
     ]
    },
    {
     "name": "stderr",
     "output_type": "stream",
     "text": [
      "/usr/local/lib/python3.6/dist-packages/ipykernel_launcher.py:20: SettingWithCopyWarning: \n",
      "A value is trying to be set on a copy of a slice from a DataFrame.\n",
      "Try using .loc[row_indexer,col_indexer] = value instead\n",
      "\n",
      "See the caveats in the documentation: http://pandas.pydata.org/pandas-docs/stable/indexing.html#indexing-view-versus-copy\n"
     ]
    }
   ],
   "source": [
    "#Import raw data\n",
    "raw = pd.read_csv('wine-reviews/winemag-data-130k-v2.csv')\n",
    "print('The raw dataset has {} columns.'.format(len(raw.columns)))\n",
    "print(raw.columns)\n",
    "\n",
    "#Pull out columns of interest\n",
    "data = raw[['description', 'points', 'price', 'title', 'country', 'taster_name', 'variety']]\n",
    "data.dropna(inplace = True)\n",
    "\n",
    "#Chech final dataframe dimensions\n",
    "print(\"Original raw data shape:{}\".format(raw.shape))\n",
    "print(\"Dataframe shape:{}\".format(data.shape))\n",
    "\n",
    "#Check data formatting\n",
    "#dsp(data.head())\n",
    "#print(len(data.variety.unique()))\n",
    "\n",
    "\n",
    "#Clean text\n",
    "data['description'] = data['description'].apply(lambda x: text_cleaner(x))\n",
    "\n",
    "print(data['description'][1])"
   ]
  },
  {
   "cell_type": "markdown",
   "metadata": {},
   "source": [
    "## Our Business Goal\n",
    "\n",
    "Suppose we were a winery looking to perfect our formula with the goal of being a hit with the critics and either maximizing or minimizing the price point. Our approach to this problem would be to use natural language processing to find what concepts (flavors, scents et al) most strongly correlate to our business goals.\n",
    "\n",
    "For our purposes, we will assume that the price of the wine perfectly correlates with the manufacturing cost, and an optimal solution would be to maximize the quality to price ratio. We will first formulate an outcome variable and measure its intrisic properties."
   ]
  },
  {
   "cell_type": "code",
   "execution_count": 6,
   "metadata": {},
   "outputs": [
    {
     "name": "stdout",
     "output_type": "stream",
     "text": [
      "There are a total of 381 unique prices over 96420 reviews.\n",
      "There are a total of 21 unique ratings over 96420 reviews.\n"
     ]
    },
    {
     "name": "stderr",
     "output_type": "stream",
     "text": [
      "/usr/local/lib/python3.6/dist-packages/ipykernel_launcher.py:8: SettingWithCopyWarning: \n",
      "A value is trying to be set on a copy of a slice from a DataFrame.\n",
      "Try using .loc[row_indexer,col_indexer] = value instead\n",
      "\n",
      "See the caveats in the documentation: http://pandas.pydata.org/pandas-docs/stable/indexing.html#indexing-view-versus-copy\n",
      "  \n"
     ]
    },
    {
     "data": {
      "text/plain": [
       "Text(0, 0.5, 'Number of Observations')"
      ]
     },
     "execution_count": 6,
     "metadata": {},
     "output_type": "execute_result"
    },
    {
     "data": {
      "image/png": "[encoded data removed]",
      "text/plain": [
       "<Figure size 432x288 with 1 Axes>"
      ]
     },
     "metadata": {
      "needs_background": "light"
     },
     "output_type": "display_data"
    }
   ],
   "source": [
    "print('There are a total of {} unique prices over {} reviews.'\n",
    "      .format(len(data['price'].unique()), data.shape[0]))\n",
    "\n",
    "print('There are a total of {} unique ratings over {} reviews.'\n",
    "      .format(len(data['points'].unique()), data.shape[0]))\n",
    "\n",
    "#Create outcome variable\n",
    "data['points-to-price'] = data['points'] / data['price']\n",
    "\n",
    "#Plot histogram of outcome\n",
    "plt.title('Distribution of Points-to-Price Ratios')\n",
    "data['points-to-price'].hist()\n",
    "\n",
    "####Labels####\n",
    "plt.xlabel('Pts-to-Price Ratio')\n",
    "plt.ylabel('Number of Observations')"
   ]
  },
  {
   "cell_type": "markdown",
   "metadata": {},
   "source": [
    "## Straight Points-to-Price Model\n",
    "\n",
    "__The Good News__\n",
    "\n",
    "There is nothing too odd going on in the distribution of the results. We have one peak in the \n",
    "\n",
    "__The Bad News__\n",
    "\n",
    "Our business outcome is right skewed. This will have to be adjusted."
   ]
  },
  {
   "cell_type": "code",
   "execution_count": 7,
   "metadata": {},
   "outputs": [
    {
     "name": "stderr",
     "output_type": "stream",
     "text": [
      "/usr/local/lib/python3.6/dist-packages/ipykernel_launcher.py:2: SettingWithCopyWarning: \n",
      "A value is trying to be set on a copy of a slice from a DataFrame.\n",
      "Try using .loc[row_indexer,col_indexer] = value instead\n",
      "\n",
      "See the caveats in the documentation: http://pandas.pydata.org/pandas-docs/stable/indexing.html#indexing-view-versus-copy\n",
      "  \n"
     ]
    },
    {
     "data": {
      "text/html": [
       "<div>\n",
       "<style scoped>\n",
       "    .dataframe tbody tr th:only-of-type {\n",
       "        vertical-align: middle;\n",
       "    }\n",
       "\n",
       "    .dataframe tbody tr th {\n",
       "        vertical-align: top;\n",
       "    }\n",
       "\n",
       "    .dataframe thead th {\n",
       "        text-align: right;\n",
       "    }\n",
       "</style>\n",
       "<table border=\"1\" class=\"dataframe\">\n",
       "  <thead>\n",
       "    <tr style=\"text-align: right;\">\n",
       "      <th></th>\n",
       "      <th>description</th>\n",
       "      <th>points-to-price</th>\n",
       "    </tr>\n",
       "  </thead>\n",
       "  <tbody>\n",
       "    <tr>\n",
       "      <th>1</th>\n",
       "      <td>This is ripe and fruity a wine that is smooth ...</td>\n",
       "      <td>1.551876</td>\n",
       "    </tr>\n",
       "    <tr>\n",
       "      <th>2</th>\n",
       "      <td>Tart and snappy the flavors of lime flesh and ...</td>\n",
       "      <td>1.578875</td>\n",
       "    </tr>\n",
       "    <tr>\n",
       "      <th>3</th>\n",
       "      <td>Pineapple rind lemon pith and orange blossom s...</td>\n",
       "      <td>1.608400</td>\n",
       "    </tr>\n",
       "    <tr>\n",
       "      <th>4</th>\n",
       "      <td>Much like the regular bottling from  this come...</td>\n",
       "      <td>1.075602</td>\n",
       "    </tr>\n",
       "    <tr>\n",
       "      <th>5</th>\n",
       "      <td>Blackberry and raspberry aromas show a typical...</td>\n",
       "      <td>1.551876</td>\n",
       "    </tr>\n",
       "  </tbody>\n",
       "</table>\n",
       "</div>"
      ],
      "text/plain": [
       "                                         description  points-to-price\n",
       "1  This is ripe and fruity a wine that is smooth ...         1.551876\n",
       "2  Tart and snappy the flavors of lime flesh and ...         1.578875\n",
       "3  Pineapple rind lemon pith and orange blossom s...         1.608400\n",
       "4  Much like the regular bottling from  this come...         1.075602\n",
       "5  Blackberry and raspberry aromas show a typical...         1.551876"
      ]
     },
     "metadata": {},
     "output_type": "display_data"
    },
    {
     "data": {
      "image/png": "[encoded data removed]",
      "text/plain": [
       "<Figure size 432x288 with 1 Axes>"
      ]
     },
     "metadata": {
      "needs_background": "light"
     },
     "output_type": "display_data"
    }
   ],
   "source": [
    "#Fix right skew\n",
    "data['points-to-price'] = data['points-to-price'] ** 0.25\n",
    "\n",
    "#Plot histogram of outcome\n",
    "plt.title('Distribution of Points-to-Price Ratios')\n",
    "data['points-to-price'].hist()\n",
    "\n",
    "####Labels####\n",
    "plt.xlabel('Pts-to-Price Ratio')\n",
    "plt.ylabel('Number of Observations')\n",
    "\n",
    "#Show description|pts-to-price table\n",
    "dsp(data[['description', 'points-to-price']].head())"
   ]
  },
  {
   "cell_type": "markdown",
   "metadata": {},
   "source": [
    "That is much better, we have normalized the data by raising it to the quarter power."
   ]
  },
  {
   "cell_type": "markdown",
   "metadata": {},
   "source": [
    "## Grouping, Sampling\n",
    "\n",
    "The first thing we want to work with is grouping reviews by type. Since reviews tend to mention properties of wine associated with its variety, we should be able to predict the variety of wine based on its review.\n",
    "\n",
    "To accomplish this, we will be looking at the top 10 most reviewed varieties of wine. We will sample 40 reviews from each of these varieties to ensure that we avoid class imbalance, as well as drastically reduce the computational cost of processing our 'proof of concept' stage before we roll the model out to the entire dataset. Afterwords, we will string these reviews together to form 'books' associated with each variety.\n",
    "\n",
    "Looking at the list of top 20 most reviewed wines, we can see a few 'such and such' style red blend. We are not yet interested in treating different subvarients of wines as separate varieties, so we will be particularly selective with what varieties of wine we include."
   ]
  },
  {
   "cell_type": "code",
   "execution_count": 8,
   "metadata": {},
   "outputs": [
    {
     "name": "stdout",
     "output_type": "stream",
     "text": [
      "Original dataframe shape:  (96420, 8)\n",
      "Balanced dataframe shape:  (1200, 8)\n"
     ]
    }
   ],
   "source": [
    "#20 most reviewed varieties\n",
    "#print('20 Most Reviewed Wine Varieties:\\n',\n",
    "#      data['variety'].value_counts()[0:20])\n",
    "\n",
    "#Top main variety list\n",
    "wine_types = ['Pinot Noir', 'Chardonnay', 'Red Blend', 'Cabernet Sauvignon', 'Riesling', 'Sauvignon Blanc', 'Syrah',\n",
    "       'Rosé', 'Malbec', 'Merlot']\n",
    "\n",
    "#We will be using this dataset as a condensed representation of\n",
    "#our full dataset, this allows us to use more intensive NLP methods\n",
    "data_cond = pd.DataFrame(columns = data.columns)\n",
    "\n",
    "for variety in wine_types:\n",
    "    data_cond = pd.concat([data_cond, \n",
    "               data[data['variety'] == variety].sample(n = 120, random_state = 101)])\n",
    "\n",
    "print('Original dataframe shape: ', data.shape)\n",
    "print('Balanced dataframe shape: ', data_cond.shape)"
   ]
  },
  {
   "cell_type": "code",
   "execution_count": 9,
   "metadata": {},
   "outputs": [
    {
     "name": "stdout",
     "output_type": "stream",
     "text": [
      "Our condensed data contains 17 unique authors\n"
     ]
    },
    {
     "data": {
      "image/png": "[encoded data removed]",
      "text/plain": [
       "<Figure size 432x288 with 1 Axes>"
      ]
     },
     "metadata": {
      "needs_background": "light"
     },
     "output_type": "display_data"
    },
    {
     "name": "stdout",
     "output_type": "stream",
     "text": [
      "\n",
      "List of authors:\n",
      "\n",
      "Michael Schachner     233\n",
      "Roger Voss            176\n",
      "Virginie Boone        143\n",
      "Paul Gregutt          136\n",
      "Sean P. Sullivan       89\n",
      "Anna Lee C. Iijima     79\n",
      "Matt Kettmann          79\n",
      "Joe Czerwinski         70\n",
      "Jim Gordon             61\n",
      "Kerin O’Keefe          49\n",
      "Anne Krebiehl MW       31\n",
      "Lauren Buzzeo          22\n",
      "Susan Kostrzewa        10\n",
      "Alexander Peartree      9\n",
      "Mike DeSimone           6\n",
      "Jeff Jenssen            6\n",
      "Carrie Dykes            1\n",
      "Name: taster_name, dtype: int64\n"
     ]
    }
   ],
   "source": [
    "#We shall now look at what authors typically write in these categories.\n",
    "print('Our condensed data contains {} unique authors'.format(len(data_cond['taster_name'].unique())))\n",
    "\n",
    "#Plot distribution of authorship\n",
    "plt.title('Distribution of Authorship')\n",
    "data_cond['taster_name'].value_counts().plot(kind = 'bar', color = 'red')\n",
    "plt.xlabel('Author')\n",
    "plt.ylabel('Count')\n",
    "plt.show()\n",
    "\n",
    "print('\\nList of authors:\\n')\n",
    "print(data_cond['taster_name'].value_counts())"
   ]
  },
  {
   "cell_type": "markdown",
   "metadata": {},
   "source": [
    "### Authorship\n",
    "\n",
    "Let us explore the correlation between authorship and variety. We can see if authors tend to write for specific varieties of wine. We can assess this by using the chi-square test. The Chi-square test tests if there are significant differences in observed frequencies between the observations of two categorical variables. The chi square statistic tells us how strongly correlated two variables are, where lower values indicate stronger correlation. THe P-value indicates how significant the results are."
   ]
  },
  {
   "cell_type": "code",
   "execution_count": 10,
   "metadata": {},
   "outputs": [
    {
     "name": "stdout",
     "output_type": "stream",
     "text": [
      "Author to Variety Contingency Table\n",
      "\n",
      "Chi-Squared Test Statistic: 1553.893433129544\n",
      "P-Value: 7.914505015465347e-222\n",
      "Degrees of Freedom: 170\n"
     ]
    }
   ],
   "source": [
    "#We will now compare what authors tend to review what wine.\n",
    "auth_type = data_cond[['taster_name', 'variety']]\n",
    "\n",
    "#To do this, we will perform chi^2 testing, first we must create a contingency table\n",
    "contingency_table = pd.crosstab(data_cond['taster_name'], data_cond['variety'], margins = True)\n",
    "\n",
    "print('Author to Variety Contingency Table\\n')\n",
    "dsp(contingency_table)\n",
    "\n",
    "\n",
    "#Plot histogram for every author based on how many of each variety they reviewed\n",
    "#plt.title('Author to Variety Heatmap')\n",
    "#sns.PairGrid(contingency_table)\n",
    "#plt.show()\n",
    "\n",
    "#We now run our chi^2 test on the contingency table we just generated\n",
    "chi2, p, dof, expected = stats.chi2_contingency(contingency_table)\n",
    "\n",
    "print('Chi-Squared Test Statistic: {}'.format(chi2))\n",
    "print('P-Value: {}'.format(p))\n",
    "print('Degrees of Freedom: {}'.format(dof))\n",
    "#print('Expected: {}'.format(expected))\n",
    "\n",
    "#Statistical analysis is overkill, observe histogram per person"
   ]
  },
  {
   "cell_type": "markdown",
   "metadata": {},
   "source": [
    "According to our CHi-square test, there is likely no correlation between authorship and variety, we can be very certain of this given such a small p-value."
   ]
  },
  {
   "cell_type": "markdown",
   "metadata": {},
   "source": [
    "### Tokenization, Lemmatization and Vectorization\n",
    "\n",
    "At some point we need to vectorize our data. The way we can do this is by using the doc2bow method which uses the 'bag of words' approach to vectorizing data. Bag of words works by assining each word present in the corpus an index, then representing each sentence as a vector in the vector space created by all unique words in the corpus, where the component of the sentence vector in each axis is given by either the word frequency or word count (in this case) for the axis's unique word.\n",
    "\n",
    "Bag of words is one of the simplest methods of sentence vectorization, and makes a good proof of concept model, but there are other models that provide better utility for our ultimate goal."
   ]
  },
  {
   "cell_type": "code",
   "execution_count": 11,
   "metadata": {},
   "outputs": [
    {
     "name": "stdout",
     "output_type": "stream",
     "text": [
      "We now have 1200 tokenized documents represented as <class 'list'>\n",
      "\n",
      "For example:\n",
      "['mediumbodied', 'appellation', 'wine', 'impressive', 'combination', 'crisp', 'red', 'fruit', 'rhubarb', 'watermelon', 'pomegranate', 'flavor', 'alongside', 'dash', 'orange', 'citrus', 'smooth', 'texture', 'add', 'whole', 'seasoning', 'allspice', 'finish', 'snappy', 'acidity']\n",
      "\n",
      "We have now vectorized our data into 1200 vectors, for example:\n",
      "[(10, 1), (26, 1), (27, 1), (28, 1), (29, 1), (30, 1), (31, 1), (32, 1), (33, 1), (34, 1), (35, 1), (36, 1), (37, 1), (38, 1), (39, 1), (40, 1), (41, 1), (42, 1), (43, 1), (44, 1), (45, 1), (46, 1), (47, 1), (48, 1), (49, 1)]\n",
      "<class 'list'>\n"
     ]
    }
   ],
   "source": [
    "#We will now train a model to predict the variety of wine given its description\n",
    "\n",
    "#Next we need to lemmatize and tokenize the text\n",
    "texts = word_parser(data_cond['description'])\n",
    "\n",
    "#Sanity Check\n",
    "print('We now have {} tokenized documents represented as {}\\n'.format(len(texts), type(texts[1])))\n",
    "print('For example:\\n{}'.format(texts[1]))\n",
    "\n",
    "#We can now create a dictionary of terms\n",
    "dictionary = corpora.Dictionary(texts)\n",
    "\n",
    "#We can now vectorize our data by producing a document-term matrix\n",
    "corpus = [dictionary.doc2bow(text) for text in texts]\n",
    "print('\\nWe have now vectorized our data into {} vectors, for example:\\n{}'.format(len(corpus), corpus[1]))\n",
    "print(type(corpus[1]))"
   ]
  },
  {
   "cell_type": "markdown",
   "metadata": {},
   "source": [
    "### Topic Extraction using TFIDF\n",
    "\n",
    "Lets first look at how term frequency - inverse document frequency (TF-IDF) handles our wine review data. TFIDF works by weighing terms which compares the frequency of these words within individual documents to how frequently documents contain the term.\n",
    "\n",
    "Intuitively, this makes sense as we expect terms like 'wine' et al to appear too frequently to be useful, whereas more specific terms (specific flavors et al) shouldn't appear in every review, but should be frequent enough when mentioned to be given a high score. Lets see what topics we pull out."
   ]
  },
  {
   "cell_type": "code",
   "execution_count": 12,
   "metadata": {},
   "outputs": [],
   "source": [
    "#Check input\n",
    "#print(data_cond['description'][0:5].values)"
   ]
  },
  {
   "cell_type": "code",
   "execution_count": 13,
   "metadata": {},
   "outputs": [
    {
     "data": {
      "text/html": [
       "<div>\n",
       "<style scoped>\n",
       "    .dataframe tbody tr th:only-of-type {\n",
       "        vertical-align: middle;\n",
       "    }\n",
       "\n",
       "    .dataframe tbody tr th {\n",
       "        vertical-align: top;\n",
       "    }\n",
       "\n",
       "    .dataframe thead th {\n",
       "        text-align: right;\n",
       "    }\n",
       "</style>\n",
       "<table border=\"1\" class=\"dataframe\">\n",
       "  <thead>\n",
       "    <tr style=\"text-align: right;\">\n",
       "      <th></th>\n",
       "      <th>score</th>\n",
       "    </tr>\n",
       "  </thead>\n",
       "  <tbody>\n",
       "    <tr>\n",
       "      <th>despite</th>\n",
       "      <td>6.992298</td>\n",
       "    </tr>\n",
       "    <tr>\n",
       "      <th>weighty</th>\n",
       "      <td>6.992298</td>\n",
       "    </tr>\n",
       "    <tr>\n",
       "      <th>brings</th>\n",
       "      <td>6.992298</td>\n",
       "    </tr>\n",
       "    <tr>\n",
       "      <th>shines</th>\n",
       "      <td>6.992298</td>\n",
       "    </tr>\n",
       "    <tr>\n",
       "      <th>creaminess</th>\n",
       "      <td>6.992298</td>\n",
       "    </tr>\n",
       "    <tr>\n",
       "      <th>mountain</th>\n",
       "      <td>6.992298</td>\n",
       "    </tr>\n",
       "    <tr>\n",
       "      <th>blanc</th>\n",
       "      <td>6.992298</td>\n",
       "    </tr>\n",
       "    <tr>\n",
       "      <th>rest</th>\n",
       "      <td>6.992298</td>\n",
       "    </tr>\n",
       "    <tr>\n",
       "      <th>voluptuous</th>\n",
       "      <td>6.992298</td>\n",
       "    </tr>\n",
       "    <tr>\n",
       "      <th>hill</th>\n",
       "      <td>6.992298</td>\n",
       "    </tr>\n",
       "  </tbody>\n",
       "</table>\n",
       "</div>"
      ],
      "text/plain": [
       "               score\n",
       "despite     6.992298\n",
       "weighty     6.992298\n",
       "brings      6.992298\n",
       "shines      6.992298\n",
       "creaminess  6.992298\n",
       "mountain    6.992298\n",
       "blanc       6.992298\n",
       "rest        6.992298\n",
       "voluptuous  6.992298\n",
       "hill        6.992298"
      ]
     },
     "execution_count": 13,
     "metadata": {},
     "output_type": "execute_result"
    }
   ],
   "source": [
    "#Use sklearn tfidf to vectorize data\n",
    "term_score = tfidf_this(data_cond['description'], tfidf) #TODO find a way to implement lemmatization to this\n",
    "\n",
    "term_score.sort_values(by=['score'], ascending = False)[:10]"
   ]
  },
  {
   "cell_type": "markdown",
   "metadata": {},
   "source": [
    "### Topic Extraction Using Latent Dirichlet Allocation\n",
    "\n",
    "We can now use gensim's Latent Dirichlet Allocation (LDA) method to extract the top 'n' topics. LDA works by "
   ]
  },
  {
   "cell_type": "code",
   "execution_count": 14,
   "metadata": {},
   "outputs": [
    {
     "name": "stdout",
     "output_type": "stream",
     "text": [
      "(0, '0.021*\"fruit\" + 0.020*\"wine\" + 0.015*\"flavor\" + 0.014*\"cherry\" + 0.013*\"palate\" + 0.012*\"tannin\" + 0.012*\"aroma\" + 0.012*\"black\" + 0.011*\"finish\" + 0.010*\"open\" + 0.008*\"spice\" + 0.007*\"show\" + 0.007*\"note\" + 0.007*\"drink\" + 0.007*\"red\" + 0.007*\"offer\" + 0.007*\"berry\" + 0.006*\"alongside\" + 0.006*\"year\" + 0.005*\"ripe\"')\n",
      "<class 'list'>\n"
     ]
    }
   ],
   "source": [
    "#We can now perform topic extraction using LDA\n",
    "ldamodel = gensim.models.ldamodel.LdaModel(corpus, num_topics= 10, id2word = dictionary, passes=20)\n",
    "\n",
    "#Print Results\n",
    "print(ldamodel.print_topics(num_topics = 10, num_words=20)[0])\n",
    "\n",
    "print(type(corpus))"
   ]
  },
  {
   "cell_type": "code",
   "execution_count": 15,
   "metadata": {},
   "outputs": [
    {
     "name": "stdout",
     "output_type": "stream",
     "text": [
      "<class 'numpy.ndarray'>\n",
      "\n",
      "\n",
      "Wine type: Pinot Noir\n",
      "\n",
      "(0, '0.023*\"wine\" + 0.015*\"fruit\" + 0.010*\"cherry\" + 0.009*\"show\" + 0.008*\"finish\" + 0.006*\"palate\" + 0.006*\"flavor\" + 0.006*\"solid\" + 0.006*\"acidity\" + 0.006*\"tannin\" + 0.005*\"red\" + 0.005*\"soft\" + 0.005*\"ripe\" + 0.004*\"oak\" + 0.004*\"light\" + 0.004*\"note\" + 0.004*\"nose\" + 0.004*\"aging\" + 0.004*\"new\" + 0.004*\"rich\"')\n",
      "\n",
      "\n",
      "Wine type: Chardonnay\n",
      "\n",
      "(0, '0.023*\"wine\" + 0.013*\"fruit\" + 0.010*\"flavor\" + 0.009*\"acidity\" + 0.008*\"citrus\" + 0.007*\"finish\" + 0.007*\"drink\" + 0.007*\"give\" + 0.007*\"lemon\" + 0.006*\"chardonnay\" + 0.006*\"oak\" + 0.006*\"apple\" + 0.006*\"palate\" + 0.005*\"crisp\" + 0.005*\"ripe\" + 0.005*\"tropical\" + 0.005*\"creamy\" + 0.004*\"texture\" + 0.004*\"aroma\" + 0.004*\"vineyard\"')\n",
      "\n",
      "\n",
      "Wine type: Red Blend\n",
      "\n",
      "(0, '0.005*\"bright\" + 0.003*\"elegant\" + 0.003*\"tannic\" + 0.002*\"lush\" + 0.002*\"priorat\" + 0.002*\"pure\" + 0.002*\"lovely\" + 0.002*\"kirsch\" + 0.002*\"thats\" + 0.002*\"singlevineyard\" + 0.002*\"bouquet\" + 0.002*\"malty\" + 0.002*\"moderately\" + 0.002*\"key\" + 0.002*\"introduces\" + 0.002*\"grace\" + 0.002*\"blended\" + 0.002*\"since\" + 0.002*\"pillowy\" + 0.002*\"low\"')\n",
      "\n",
      "\n",
      "Wine type: Cabernet Sauvignon\n",
      "\n",
      "(0, '0.008*\"wine\" + 0.007*\"cherry\" + 0.007*\"cassis\" + 0.006*\"finish\" + 0.006*\"note\" + 0.004*\"blackberry\" + 0.004*\"black\" + 0.004*\"yet\" + 0.004*\"plenty\" + 0.004*\"nose\" + 0.004*\"smoky\" + 0.004*\"earth\" + 0.004*\"textured\" + 0.004*\"raw\" + 0.003*\"leaf\" + 0.003*\"tomato\" + 0.003*\"dried\" + 0.003*\"herbal\" + 0.003*\"herb\" + 0.002*\"palate\"')\n",
      "\n",
      "\n",
      "Wine type: Riesling\n",
      "\n",
      "(0, '0.007*\"light\" + 0.006*\"honey\" + 0.006*\"riesling\" + 0.006*\"acidity\" + 0.006*\"lemon\" + 0.005*\"crisp\" + 0.005*\"lime\" + 0.005*\"note\" + 0.005*\"intense\" + 0.005*\"earth\" + 0.004*\"finish\" + 0.004*\"apple\" + 0.004*\"aroma\" + 0.004*\"palate\" + 0.004*\"body\" + 0.004*\"drink\" + 0.003*\"even\" + 0.003*\"freshness\" + 0.003*\"sweetness\" + 0.003*\"well\"')\n",
      "\n",
      "\n",
      "Wine type: Sauvignon Blanc\n",
      "\n",
      "(0, '0.026*\"wine\" + 0.020*\"flavor\" + 0.011*\"finish\" + 0.011*\"fruit\" + 0.010*\"ripe\" + 0.010*\"blanc\" + 0.010*\"sauvignon\" + 0.008*\"nose\" + 0.008*\"green\" + 0.008*\"drink\" + 0.008*\"citrus\" + 0.007*\"acidity\" + 0.007*\"aroma\" + 0.007*\"fresh\" + 0.007*\"palate\" + 0.006*\"texture\" + 0.006*\"grapefruit\" + 0.005*\"give\" + 0.005*\"rich\" + 0.005*\"apple\"')\n",
      "\n",
      "\n",
      "Wine type: Syrah\n",
      "\n",
      "(0, '0.006*\"wine\" + 0.002*\"rose\" + 0.002*\"flavor\" + 0.002*\"black\" + 0.002*\"note\" + 0.002*\"bottling\" + 0.002*\"dense\" + 0.002*\"earth\" + 0.002*\"fruit\" + 0.002*\"well\" + 0.002*\"vineyard\" + 0.002*\"lavender\" + 0.002*\"rustic\" + 0.002*\"show\" + 0.002*\"appellation\" + 0.002*\"rowdy\" + 0.002*\"finishing\" + 0.002*\"play\" + 0.002*\"cocoa\" + 0.002*\"viognier\"')\n",
      "\n",
      "\n",
      "Wine type: Rosé\n",
      "\n",
      "(0, '0.003*\"fairly\" + 0.003*\"could\" + 0.003*\"flouret\" + 0.003*\"zip\" + 0.003*\"cinsault\" + 0.003*\"heavy\" + 0.003*\"tibouren\" + 0.003*\"meaty\" + 0.003*\"rimauresq\" + 0.003*\"use\" + 0.003*\"xavier\" + 0.003*\"domaine\" + 0.003*\"bottled\" + 0.003*\"weighty\" + 0.003*\"dish\" + 0.000*\"melon\" + 0.000*\"de\" + 0.000*\"syrah\" + 0.000*\"best\" + 0.000*\"grenache\"')\n",
      "\n",
      "\n",
      "Wine type: Malbec\n",
      "\n",
      "(0, '0.006*\"wine\" + 0.005*\"nose\" + 0.004*\"saturated\" + 0.004*\"end\" + 0.004*\"scratchy\" + 0.004*\"grapey\" + 0.004*\"score\" + 0.004*\"texture\" + 0.004*\"tasted\" + 0.004*\"heavy\" + 0.003*\"acidity\" + 0.003*\"great\" + 0.003*\"earth\" + 0.003*\"flavor\" + 0.002*\"feeling\" + 0.002*\"feel\" + 0.002*\"fruit\" + 0.002*\"malbec\" + 0.002*\"one\" + 0.002*\"almost\"')\n",
      "\n",
      "\n",
      "Wine type: Merlot\n",
      "\n",
      "(0, '0.020*\"flavor\" + 0.019*\"aroma\" + 0.015*\"cherry\" + 0.014*\"fruit\" + 0.013*\"black\" + 0.012*\"finish\" + 0.011*\"palate\" + 0.009*\"note\" + 0.009*\"pepper\" + 0.008*\"herb\" + 0.008*\"blackberry\" + 0.007*\"wine\" + 0.007*\"tannin\" + 0.007*\"show\" + 0.007*\"green\" + 0.006*\"merlot\" + 0.006*\"bit\" + 0.006*\"dark\" + 0.006*\"concentrated\" + 0.006*\"ripe\"')\n"
     ]
    }
   ],
   "source": [
    "#Create dataframe with vector and wine variety\n",
    "var_to_vect = pd.DataFrame()\n",
    "var_to_vect['variety'] = data_cond['variety']\n",
    "var_to_vect['corpus'] = corpus\n",
    "\n",
    "print(type(var_to_vect['corpus'].values))\n",
    "\n",
    "#Iterate through every variety of wine and perform LDA analysis\n",
    "for wine in wine_types:\n",
    "    \n",
    "    #Query by wine type\n",
    "    section = var_to_vect[var_to_vect['variety'] == wine]\n",
    "    \n",
    "    print('\\n\\nWine type: {}\\n'.format(wine))\n",
    "    \n",
    "    #Instantiate model\n",
    "    LDA_wine = gensim.models.ldamodel.LdaModel(section['corpus'], num_topics= 10, id2word = dictionary, passes=20)\n",
    "    \n",
    "    #Print topics associated with every wine type\n",
    "    print(LDA_wine.print_topics(num_topics = 10, num_words=20)[0])\n",
    "    \n",
    "    "
   ]
  },
  {
   "cell_type": "markdown",
   "metadata": {},
   "source": [
    "### Predictive modeling using Gradient Boosting Regression Analysis\n",
    "\n",
    "We can now implement and test our gradient boosting regression method. Overfitting often becomes a problem when dealing with linguistic data given the complexity of the model. We will be using a method that is known to be resistant to overfitting: gradient boositng."
   ]
  },
  {
   "cell_type": "code",
   "execution_count": 16,
   "metadata": {},
   "outputs": [
    {
     "name": "stdout",
     "output_type": "stream",
     "text": [
      "Fitting Model...\n",
      "Done!\n",
      "\n",
      "Model Score: 0.6316247776483764\n",
      "Holdover Score: -0.07812543787128767\n"
     ]
    }
   ],
   "source": [
    "#Instantiate gradient boosting model\n",
    "gbr = GradientBoostingRegressor(learning_rate = 0.1, n_estimators = 100)\n",
    "\n",
    "#Instantiate LDA model\n",
    "lda_model = LatentDirichletAllocation()\n",
    "\n",
    "X = tfidf.fit_transform(data_cond['description']) #Filter out stopwords and lemmatize, tokenize\n",
    "Y = data_cond['points-to-price']\n",
    "\n",
    "#Use ensemble modeling and pull out feature importances or use SGD and pull out coefficients\n",
    "train_test_score(gbr, X, Y)\n",
    "\n"
   ]
  },
  {
   "cell_type": "code",
   "execution_count": 17,
   "metadata": {},
   "outputs": [
    {
     "data": {
      "text/html": [
       "<div>\n",
       "<style scoped>\n",
       "    .dataframe tbody tr th:only-of-type {\n",
       "        vertical-align: middle;\n",
       "    }\n",
       "\n",
       "    .dataframe tbody tr th {\n",
       "        vertical-align: top;\n",
       "    }\n",
       "\n",
       "    .dataframe thead th {\n",
       "        text-align: right;\n",
       "    }\n",
       "</style>\n",
       "<table border=\"1\" class=\"dataframe\">\n",
       "  <thead>\n",
       "    <tr style=\"text-align: right;\">\n",
       "      <th></th>\n",
       "      <th>terms</th>\n",
       "      <th>importance</th>\n",
       "    </tr>\n",
       "  </thead>\n",
       "  <tbody>\n",
       "    <tr>\n",
       "      <th>drink</th>\n",
       "      <td>drink</td>\n",
       "      <td>0.035847</td>\n",
       "    </tr>\n",
       "    <tr>\n",
       "      <th>single</th>\n",
       "      <td>single</td>\n",
       "      <td>0.033955</td>\n",
       "    </tr>\n",
       "    <tr>\n",
       "      <th>elderflower</th>\n",
       "      <td>elderflower</td>\n",
       "      <td>0.031002</td>\n",
       "    </tr>\n",
       "    <tr>\n",
       "      <th>petit</th>\n",
       "      <td>petit</td>\n",
       "      <td>0.030161</td>\n",
       "    </tr>\n",
       "    <tr>\n",
       "      <th>dark</th>\n",
       "      <td>dark</td>\n",
       "      <td>0.025202</td>\n",
       "    </tr>\n",
       "    <tr>\n",
       "      <th>case</th>\n",
       "      <td>case</td>\n",
       "      <td>0.023750</td>\n",
       "    </tr>\n",
       "    <tr>\n",
       "      <th>chewy</th>\n",
       "      <td>chewy</td>\n",
       "      <td>0.023525</td>\n",
       "    </tr>\n",
       "    <tr>\n",
       "      <th>star</th>\n",
       "      <td>star</td>\n",
       "      <td>0.021707</td>\n",
       "    </tr>\n",
       "    <tr>\n",
       "      <th>sip</th>\n",
       "      <td>sip</td>\n",
       "      <td>0.019790</td>\n",
       "    </tr>\n",
       "    <tr>\n",
       "      <th>whiff</th>\n",
       "      <td>whiff</td>\n",
       "      <td>0.019565</td>\n",
       "    </tr>\n",
       "  </tbody>\n",
       "</table>\n",
       "</div>"
      ],
      "text/plain": [
       "                   terms  importance\n",
       "drink              drink    0.035847\n",
       "single            single    0.033955\n",
       "elderflower  elderflower    0.031002\n",
       "petit              petit    0.030161\n",
       "dark                dark    0.025202\n",
       "case                case    0.023750\n",
       "chewy              chewy    0.023525\n",
       "star                star    0.021707\n",
       "sip                  sip    0.019790\n",
       "whiff              whiff    0.019565"
      ]
     },
     "execution_count": 17,
     "metadata": {},
     "output_type": "execute_result"
    }
   ],
   "source": [
    "#Return dataframe of term importanes according to model\n",
    "term_ranking = return_feature_importance(gbr, tfidf.vocabulary_)\n",
    "\n",
    "term_ranking.sort_values(by=['importance'], ascending = False)[:10]"
   ]
  },
  {
   "cell_type": "code",
   "execution_count": 18,
   "metadata": {},
   "outputs": [
    {
     "name": "stdout",
     "output_type": "stream",
     "text": [
      "We now have a dictionary of: <class 'str'>\n"
     ]
    }
   ],
   "source": [
    "#Create dictionary of reviews\n",
    "review_dict = {}\n",
    "\n",
    "for variety in wine_types:\n",
    "    review_dict[variety] = stringer(data_cond[data_cond['variety'] == variety]['description'].values)\n",
    "\n",
    "#Sanity Check\n",
    "print('We now have a dictionary of:', type(review_dict['Merlot']))"
   ]
  },
  {
   "cell_type": "markdown",
   "metadata": {},
   "source": [
    "### Results\n",
    "\n",
    "Doing supervised learning on NLP is hard. Often impossible. We are looking at data that will"
   ]
  }
 ],
 "metadata": {
  "kernelspec": {
   "display_name": "Python 3",
   "language": "python",
   "name": "python3"
  },
  "language_info": {
   "codemirror_mode": {
    "name": "ipython",
    "version": 3
   },
   "file_extension": ".py",
   "mimetype": "text/x-python",
   "name": "python",
   "nbconvert_exporter": "python",
   "pygments_lexer": "ipython3",
   "version": "3.6.8"
  }
 },
 "nbformat": 4,
 "nbformat_minor": 2
}
