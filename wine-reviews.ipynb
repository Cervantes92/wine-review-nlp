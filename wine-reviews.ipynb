{
 "cells": [
  {
   "cell_type": "code",
   "execution_count": 15,
   "metadata": {},
   "outputs": [],
   "source": [
    "import numpy as np\n",
    "import pandas as pd\n",
    "import spacy\n",
    "import re\n",
    "import matplotlib.pyplot as plt\n",
    "\n",
    "from IPython.display import display as dsp"
   ]
  },
  {
   "cell_type": "markdown",
   "metadata": {},
   "source": [
    "Data taken from kaggle\n",
    "https://www.kaggle.com/zynicide/wine-reviews\n",
    "\n",
    "# Sticking to the classics: the wine review list\n",
    "\n",
    "What we have here is a dataset of wine reviews from the Wine Enthusiast magazine (https://www.winemag.com/?s=&drink_type=wine). This dataset has gained popularity as a training set to measure the capabilities of various classifiers, clustering algorithms and natural language processing models.\n",
    "\n",
    "There are several reasons why this dataset is so good for testing machine learning processes. First, the immense size of the dataset (at over 100'000 entries, each with a paragraph of text written by dozens of unique authors, with several other unique attributes such as title of the wine, type of wine, country of origin et al.\n",
    "\n",
    "There are dozens of potential projects, such as supervised learning techniques involving predicting the authorship of the wine review based on the metrics of the review itself, or unsupervised techniques such as clustering reviews and wine types."
   ]
  },
  {
   "cell_type": "markdown",
   "metadata": {},
   "source": [
    "# The Data\n",
    "\n",
    "We will first explore the form our data takes. We import the data as a pandas dataframe from a CSV file. There are several potential projects we could do using only a handful of columns from the original dataset, and thankfully, not very many entries countained null values we had to get rid of.\n",
    "\n",
    "We will start by exploring a subset of the columns available from the raw dataset, being: 'description', 'title', 'country', 'taster_name', and 'variety'."
   ]
  },
  {
   "cell_type": "code",
   "execution_count": 16,
   "metadata": {},
   "outputs": [
    {
     "name": "stdout",
     "output_type": "stream",
     "text": [
      "Index(['Unnamed: 0', 'country', 'description', 'designation', 'points',\n",
      "       'price', 'province', 'region_1', 'region_2', 'taster_name',\n",
      "       'taster_twitter_handle', 'title', 'variety', 'winery'],\n",
      "      dtype='object')\n",
      "Original dataframe shape:(129971, 14)\n",
      "Final data shape:(103664, 5)\n"
     ]
    },
    {
     "name": "stderr",
     "output_type": "stream",
     "text": [
      "/usr/local/lib/python3.6/dist-packages/ipykernel_launcher.py:6: SettingWithCopyWarning: \n",
      "A value is trying to be set on a copy of a slice from a DataFrame\n",
      "\n",
      "See the caveats in the documentation: http://pandas.pydata.org/pandas-docs/stable/indexing.html#indexing-view-versus-copy\n",
      "  \n"
     ]
    }
   ],
   "source": [
    "raw = pd.read_csv('wine-reviews/winemag-data-130k-v2.csv')\n",
    "print(raw.columns)\n",
    "#dsp(raw.head())\n",
    "\n",
    "data = raw[['description', 'title', 'country', 'taster_name', 'variety']]\n",
    "data.dropna(inplace = True)\n",
    "\n",
    "print(\"Original dataframe shape:{}\".format(raw.shape))\n",
    "print(\"Final data shape:{}\".format(data.shape))"
   ]
  },
  {
   "cell_type": "markdown",
   "metadata": {},
   "source": [
    "# The Proposal\n",
    "\n",
    "One academic field I am interested in is the identification of authorship of works whose true author is either unknown or in question. For example, there has been some debate as to whether Shakespeare is the author to all the plays attributed to him. Or, in spite of the relatively decent record keeping of the time, the authorship of many of the Icelandic sagas remains unknown. \n",
    "\n",
    "We can use this dataset to test a process of linguistic analysis using machine learning. If there are a limited number of authors who wrote similar numbers of reviews in this dataset, we stand a chance of being able to generate a respectable model.\n",
    "\n",
    "Thus, we must perform some meta-analysis of our dataset."
   ]
  },
  {
   "cell_type": "code",
   "execution_count": 31,
   "metadata": {},
   "outputs": [
    {
     "name": "stdout",
     "output_type": "stream",
     "text": [
      "There are a total of 19 unique authors over 103664 reviews.\n"
     ]
    },
    {
     "data": {
      "text/plain": [
       "taster_name\n",
       "Alexander Peartree      415\n",
       "Anna Lee C. Iijima     4415\n",
       "Anne Krebiehl MW       3676\n",
       "Carrie Dykes            139\n",
       "Christina Pickard         6\n",
       "Fiona Adams              27\n",
       "Jeff Jenssen            469\n",
       "Jim Gordon             4177\n",
       "Joe Czerwinski         5145\n",
       "Kerin O’Keefe         10776\n",
       "Lauren Buzzeo          1832\n",
       "Matt Kettmann          6332\n",
       "Michael Schachner     15127\n",
       "Mike DeSimone           502\n",
       "Paul Gregutt           9531\n",
       "Roger Voss            25512\n",
       "Sean P. Sullivan       4966\n",
       "Susan Kostrzewa        1080\n",
       "Virginie Boone         9537\n",
       "Name: taster_name, dtype: int64"
      ]
     },
     "metadata": {},
     "output_type": "display_data"
    },
    {
     "data": {
      "text/plain": [
       "<matplotlib.axes._subplots.AxesSubplot at 0x7f4ec630bf28>"
      ]
     },
     "execution_count": 31,
     "metadata": {},
     "output_type": "execute_result"
    },
    {
     "data": {
      "image/png": "[encoded data removed]",
      "text/plain": [
       "<Figure size 432x288 with 1 Axes>"
      ]
     },
     "metadata": {
      "needs_background": "light"
     },
     "output_type": "display_data"
    }
   ],
   "source": [
    "print('There are a total of {} unique authors over {} reviews.'\n",
    "      .format(len(data['taster_name'].unique()), data.shape[0]))\n",
    "\n",
    "#Distribution of authorship.\n",
    "rvw_cnts = data.groupby('taster_name')['taster_name'].count()\n",
    "\n",
    "dsp(rvw_cnts)\n",
    "\n",
    "plt.title('Number of Reviews per Unique Reviewer')\n",
    "data.groupby('taster_name')['taster_name'].count().plot(kind='bar')"
   ]
  },
  {
   "cell_type": "markdown",
   "metadata": {},
   "source": [
    "# Reviewers\n",
    "\n",
    "__The Good News__\n",
    "\n",
    "Reviewers tend to make multiple contributions to the site. There should be enough reviews to train a somewhat successful model.\n",
    "\n",
    "__The Bad News__\n",
    "\n",
    "Woah, slow down there Roger Voss! You've submitted nearly twice the number of reviews as the next most prolific reviewer. A model that does not take this overrepresentation into account could be successfull in our training data by only guessing Roger Voss."
   ]
  }
 ],
 "metadata": {
  "kernelspec": {
   "display_name": "Python 3",
   "language": "python",
   "name": "python3"
  },
  "language_info": {
   "codemirror_mode": {
    "name": "ipython",
    "version": 3
   },
   "file_extension": ".py",
   "mimetype": "text/x-python",
   "name": "python",
   "nbconvert_exporter": "python",
   "pygments_lexer": "ipython3",
   "version": "3.6.7"
  }
 },
 "nbformat": 4,
 "nbformat_minor": 2
}
